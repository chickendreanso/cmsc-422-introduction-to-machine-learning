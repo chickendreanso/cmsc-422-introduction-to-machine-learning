{
 "cells": [
  {
   "cell_type": "markdown",
   "metadata": {},
   "source": [
    "# Project 2: Multiclass and Linear Models\n",
    "By: Andrean Priadi 119407110"
   ]
  },
  {
   "cell_type": "markdown",
   "metadata": {},
   "source": [
    "## WU1"
   ]
  },
  {
   "cell_type": "code",
   "execution_count": 1,
   "metadata": {},
   "outputs": [],
   "source": [
    "from sklearn.tree import DecisionTreeClassifier\n",
    "import multiclass\n",
    "import util\n",
    "from datasets import *\n",
    "import time"
   ]
  },
  {
   "cell_type": "markdown",
   "metadata": {},
   "source": [
    "### WU1 A OAA"
   ]
  },
  {
   "cell_type": "code",
   "execution_count": 2,
   "metadata": {},
   "outputs": [
    {
     "name": "stdout",
     "output_type": "stream",
     "text": [
      "training classifier for 0 versus rest\n",
      "(435, 819) (435,)\n",
      "training classifier for 1 versus rest\n",
      "(435, 819) (435,)\n",
      "training classifier for 2 versus rest\n",
      "(435, 819) (435,)\n",
      "training classifier for 3 versus rest\n",
      "(435, 819) (435,)\n",
      "training classifier for 4 versus rest\n",
      "(435, 819) (435,)\n"
     ]
    }
   ],
   "source": [
    "h = multiclass.OAA(5, lambda: DecisionTreeClassifier(max_depth=3))\n",
    "h.train(WineDataSmall.X, WineDataSmall.Y)"
   ]
  },
  {
   "cell_type": "code",
   "execution_count": 50,
   "metadata": {},
   "outputs": [
    {
     "name": "stdout",
     "output_type": "stream",
     "text": [
      "Sauvignon-Blanc\n",
      "citrus?\n",
      "-N-> lime?\n",
      "|    -N-> gooseberry?\n",
      "|    |    -N-> class 0\t(356 for class 0, 10 for class 1)\n",
      "|    |    -Y-> class 1\t(0 for class 0, 4 for class 1)\n",
      "|    -Y-> or?\n",
      "|    |    -N-> class 1\t(1 for class 0, 15 for class 1)\n",
      "|    |    -Y-> class 0\t(2 for class 0, 0 for class 1)\n",
      "-Y-> grapefruit?\n",
      "|    -N-> flavors?\n",
      "|    |    -N-> class 1\t(4 for class 0, 12 for class 1)\n",
      "|    |    -Y-> class 0\t(11 for class 0, 5 for class 1)\n",
      "|    -Y-> extremely?\n",
      "|    |    -N-> class 1\t(0 for class 0, 14 for class 1)\n",
      "|    |    -Y-> class 0\t(1 for class 0, 0 for class 1)\n"
     ]
    }
   ],
   "source": [
    "print(WineDataSmall.labels[0])\n",
    "util.showTree(h.f[0], WineDataSmall.words)"
   ]
  },
  {
   "cell_type": "code",
   "execution_count": 51,
   "metadata": {},
   "outputs": [
    {
     "name": "stdout",
     "output_type": "stream",
     "text": [
      "Pinot-Noir\n",
      "cherry?\n",
      "-N-> raspberries?\n",
      "|    -N-> strawberry?\n",
      "|    |    -N-> class 0\t(225 for class 0, 58 for class 1)\n",
      "|    |    -Y-> class 1\t(0 for class 0, 4 for class 1)\n",
      "|    -Y-> integrated?\n",
      "|    |    -N-> class 1\t(0 for class 0, 12 for class 1)\n",
      "|    |    -Y-> class 0\t(1 for class 0, 0 for class 1)\n",
      "-Y-> cassis?\n",
      "|    -N-> petit?\n",
      "|    |    -N-> class 1\t(36 for class 0, 68 for class 1)\n",
      "|    |    -Y-> class 0\t(8 for class 0, 0 for class 1)\n",
      "|    -Y-> allspice?\n",
      "|    |    -N-> class 0\t(21 for class 0, 0 for class 1)\n",
      "|    |    -Y-> class 1\t(0 for class 0, 2 for class 1)\n"
     ]
    }
   ],
   "source": [
    "print(WineDataSmall.labels[2])\n",
    "util.showTree(h.f[2], WineDataSmall.words)"
   ]
  },
  {
   "cell_type": "markdown",
   "metadata": {},
   "source": [
    "### WU1 A AVA"
   ]
  },
  {
   "cell_type": "code",
   "execution_count": 52,
   "metadata": {},
   "outputs": [
    {
     "name": "stdout",
     "output_type": "stream",
     "text": [
      "training classifier for 1 versus 0\n",
      "training classifier for 2 versus 0\n",
      "training classifier for 2 versus 1\n",
      "training classifier for 3 versus 0\n",
      "training classifier for 3 versus 1\n",
      "training classifier for 3 versus 2\n",
      "training classifier for 4 versus 0\n",
      "training classifier for 4 versus 1\n",
      "training classifier for 4 versus 2\n",
      "training classifier for 4 versus 3\n"
     ]
    }
   ],
   "source": [
    "h = multiclass.AVA(5, lambda: DecisionTreeClassifier(max_depth=3))\n",
    "h.train(WineDataSmall.X, WineDataSmall.Y)"
   ]
  },
  {
   "cell_type": "code",
   "execution_count": 55,
   "metadata": {},
   "outputs": [
    {
     "name": "stdout",
     "output_type": "stream",
     "text": [
      "training classifier for 1 versus 0\n",
      "citrus?\n",
      "-N-> lime?\n",
      "|    -N-> refreshing?\n",
      "|    |    -N-> class 0\t(187 for class 0, 9 for class 1)\n",
      "|    |    -Y-> class 1\t(0 for class 0, 5 for class 1)\n",
      "|    -Y-> class 1\t(0 for class 0, 15 for class 1)\n",
      "-Y-> class 1\t(0 for class 0, 31 for class 1)\n"
     ]
    }
   ],
   "source": [
    "print(\"training classifier for 1 versus 0\")\n",
    "util.showTree(h.f[1][0], WineDataSmall.words)"
   ]
  },
  {
   "cell_type": "code",
   "execution_count": 56,
   "metadata": {},
   "outputs": [
    {
     "name": "stdout",
     "output_type": "stream",
     "text": [
      "training classifier for 2 versus 0\n",
      "crisp?\n",
      "-N-> lime?\n",
      "|    -N-> lemon?\n",
      "|    |    -N-> class 0\t(141 for class 0, 9 for class 1)\n",
      "|    |    -Y-> class 1\t(0 for class 0, 8 for class 1)\n",
      "|    -Y-> roasted?\n",
      "|    |    -N-> class 1\t(0 for class 0, 13 for class 1)\n",
      "|    |    -Y-> class 0\t(1 for class 0, 0 for class 1)\n",
      "-Y-> red?\n",
      "|    -N-> class 1\t(0 for class 0, 30 for class 1)\n",
      "|    -Y-> class 0\t(2 for class 0, 0 for class 1)\n"
     ]
    }
   ],
   "source": [
    "print(\"training classifier for 2 versus 0\")\n",
    "util.showTree(h.f[2][0], WineDataSmall.words)"
   ]
  },
  {
   "cell_type": "code",
   "execution_count": 57,
   "metadata": {},
   "outputs": [
    {
     "name": "stdout",
     "output_type": "stream",
     "text": [
      "training classifier for 3 versus 0\n",
      "thai?\n",
      "-N-> very?\n",
      "|    -N-> attractive?\n",
      "|    |    -N-> class 1\t(4 for class 0, 56 for class 1)\n",
      "|    |    -Y-> class 0\t(1 for class 0, 0 for class 1)\n",
      "|    -Y-> ripe?\n",
      "|    |    -N-> class 1\t(1 for class 0, 4 for class 1)\n",
      "|    |    -Y-> class 0\t(4 for class 0, 0 for class 1)\n",
      "-Y-> class 0\t(5 for class 0, 0 for class 1)\n"
     ]
    }
   ],
   "source": [
    "print(\"training classifier for 3 versus 0\")\n",
    "util.showTree(h.f[3][0], WineDataSmall.words)"
   ]
  },
  {
   "cell_type": "code",
   "execution_count": 58,
   "metadata": {},
   "outputs": [
    {
     "name": "stdout",
     "output_type": "stream",
     "text": [
      "training classifier for 4 versus 0\n",
      "apple?\n",
      "-N-> pasta?\n",
      "|    -N-> quite?\n",
      "|    |    -N-> class 1\t(11 for class 0, 56 for class 1)\n",
      "|    |    -Y-> class 0\t(3 for class 0, 0 for class 1)\n",
      "|    -Y-> class 0\t(4 for class 0, 0 for class 1)\n",
      "-Y-> bright?\n",
      "|    -N-> class 0\t(10 for class 0, 0 for class 1)\n",
      "|    -Y-> offers?\n",
      "|    |    -N-> class 1\t(0 for class 0, 4 for class 1)\n",
      "|    |    -Y-> class 0\t(1 for class 0, 0 for class 1)\n"
     ]
    }
   ],
   "source": [
    "print(\"training classifier for 4 versus 0\")\n",
    "util.showTree(h.f[4][0], WineDataSmall.words)"
   ]
  },
  {
   "cell_type": "markdown",
   "metadata": {},
   "source": [
    "## WU1 B"
   ]
  },
  {
   "cell_type": "markdown",
   "metadata": {},
   "source": [
    "### Train depth 3 decision trees on the full WineData task (With 20 labels). What accuracy do you get? How long does this take (in seconds)? One of my least favorite wine is Viognier -- what words are indicative of this?"
   ]
  },
  {
   "cell_type": "markdown",
   "metadata": {},
   "source": [
    "#### WU1 B OAA"
   ]
  },
  {
   "cell_type": "code",
   "execution_count": 12,
   "metadata": {},
   "outputs": [
    {
     "name": "stdout",
     "output_type": "stream",
     "text": [
      "training classifier for 0 versus rest\n",
      "training classifier for 1 versus rest\n",
      "training classifier for 2 versus rest\n",
      "training classifier for 3 versus rest\n",
      "training classifier for 4 versus rest\n",
      "training classifier for 5 versus rest\n",
      "training classifier for 6 versus rest\n",
      "training classifier for 7 versus rest\n",
      "training classifier for 8 versus rest\n",
      "training classifier for 9 versus rest\n",
      "training classifier for 10 versus rest\n",
      "training classifier for 11 versus rest\n",
      "training classifier for 12 versus rest\n",
      "training classifier for 13 versus rest\n",
      "training classifier for 14 versus rest\n",
      "training classifier for 15 versus rest\n",
      "training classifier for 16 versus rest\n",
      "training classifier for 17 versus rest\n",
      "training classifier for 18 versus rest\n",
      "training classifier for 19 versus rest\n"
     ]
    }
   ],
   "source": [
    "start = time.time()\n",
    "h = multiclass.OAA(20, lambda: DecisionTreeClassifier(max_depth=3))\n",
    "end = time.time()\n",
    "h.train(WineData.X, WineData.Y)\n",
    "P = h.predictAll(WineData.Xte)\n",
    "acc = mean(P == WineData.Yte)"
   ]
  },
  {
   "cell_type": "code",
   "execution_count": 19,
   "metadata": {},
   "outputs": [
    {
     "name": "stdout",
     "output_type": "stream",
     "text": [
      "OAA accuracy: 0.213358\n",
      "OAA training time taken: 0.24316191673278809 seconds\n"
     ]
    }
   ],
   "source": [
    "print ('OAA accuracy: %f' % acc)\n",
    "print (\"OAA training time taken:\", end - start, \"seconds\")"
   ]
  },
  {
   "cell_type": "code",
   "execution_count": 14,
   "metadata": {},
   "outputs": [
    {
     "name": "stdout",
     "output_type": "stream",
     "text": [
      "Viognier\n",
      "peaches?\n",
      "-N-> nectarine?\n",
      "|    -N-> chilled?\n",
      "|    |    -N-> class 0\t(1036 for class 0, 1 for class 1)\n",
      "|    |    -Y-> class 0\t(6 for class 0, 1 for class 1)\n",
      "|    -Y-> linger?\n",
      "|    |    -N-> class 0\t(13 for class 0, 1 for class 1)\n",
      "|    |    -Y-> class 1\t(0 for class 0, 1 for class 1)\n",
      "-Y-> milk?\n",
      "|    -N-> fully?\n",
      "|    |    -N-> class 0\t(14 for class 0, 0 for class 1)\n",
      "|    |    -Y-> class 1\t(0 for class 0, 1 for class 1)\n",
      "|    -Y-> class 1\t(0 for class 0, 3 for class 1)\n"
     ]
    }
   ],
   "source": [
    "print(WineData.labels[17])\n",
    "util.showTree(h.f[17], WineData.words)"
   ]
  },
  {
   "cell_type": "code",
   "execution_count": 15,
   "metadata": {},
   "outputs": [
    {
     "name": "stdout",
     "output_type": "stream",
     "text": [
      "training classifier for 1 versus 0\n",
      "training classifier for 2 versus 0\n",
      "training classifier for 2 versus 1\n",
      "training classifier for 3 versus 0\n",
      "training classifier for 3 versus 1\n",
      "training classifier for 3 versus 2\n",
      "training classifier for 4 versus 0\n",
      "training classifier for 4 versus 1\n",
      "training classifier for 4 versus 2\n",
      "training classifier for 4 versus 3\n",
      "training classifier for 5 versus 0\n",
      "training classifier for 5 versus 1\n",
      "training classifier for 5 versus 2\n",
      "training classifier for 5 versus 3\n",
      "training classifier for 5 versus 4\n",
      "training classifier for 6 versus 0\n",
      "training classifier for 6 versus 1\n",
      "training classifier for 6 versus 2\n",
      "training classifier for 6 versus 3\n",
      "training classifier for 6 versus 4\n",
      "training classifier for 6 versus 5\n",
      "training classifier for 7 versus 0\n",
      "training classifier for 7 versus 1\n",
      "training classifier for 7 versus 2\n",
      "training classifier for 7 versus 3\n",
      "training classifier for 7 versus 4\n",
      "training classifier for 7 versus 5\n",
      "training classifier for 7 versus 6\n",
      "training classifier for 8 versus 0\n",
      "training classifier for 8 versus 1\n",
      "training classifier for 8 versus 2\n",
      "training classifier for 8 versus 3\n",
      "training classifier for 8 versus 4\n",
      "training classifier for 8 versus 5\n",
      "training classifier for 8 versus 6\n",
      "training classifier for 8 versus 7\n",
      "training classifier for 9 versus 0\n",
      "training classifier for 9 versus 1\n",
      "training classifier for 9 versus 2\n",
      "training classifier for 9 versus 3\n",
      "training classifier for 9 versus 4\n",
      "training classifier for 9 versus 5\n",
      "training classifier for 9 versus 6\n",
      "training classifier for 9 versus 7\n",
      "training classifier for 9 versus 8\n",
      "training classifier for 10 versus 0\n",
      "training classifier for 10 versus 1\n",
      "training classifier for 10 versus 2\n",
      "training classifier for 10 versus 3\n",
      "training classifier for 10 versus 4\n",
      "training classifier for 10 versus 5\n",
      "training classifier for 10 versus 6\n",
      "training classifier for 10 versus 7\n",
      "training classifier for 10 versus 8\n",
      "training classifier for 10 versus 9\n",
      "training classifier for 11 versus 0\n",
      "training classifier for 11 versus 1\n",
      "training classifier for 11 versus 2\n",
      "training classifier for 11 versus 3\n",
      "training classifier for 11 versus 4\n",
      "training classifier for 11 versus 5\n",
      "training classifier for 11 versus 6\n",
      "training classifier for 11 versus 7\n",
      "training classifier for 11 versus 8\n",
      "training classifier for 11 versus 9\n",
      "training classifier for 11 versus 10\n",
      "training classifier for 12 versus 0\n",
      "training classifier for 12 versus 1\n",
      "training classifier for 12 versus 2\n",
      "training classifier for 12 versus 3\n",
      "training classifier for 12 versus 4\n",
      "training classifier for 12 versus 5\n",
      "training classifier for 12 versus 6\n",
      "training classifier for 12 versus 7\n",
      "training classifier for 12 versus 8\n",
      "training classifier for 12 versus 9\n",
      "training classifier for 12 versus 10\n",
      "training classifier for 12 versus 11\n",
      "training classifier for 13 versus 0\n",
      "training classifier for 13 versus 1\n",
      "training classifier for 13 versus 2\n",
      "training classifier for 13 versus 3\n",
      "training classifier for 13 versus 4\n",
      "training classifier for 13 versus 5\n",
      "training classifier for 13 versus 6\n",
      "training classifier for 13 versus 7\n",
      "training classifier for 13 versus 8\n",
      "training classifier for 13 versus 9\n",
      "training classifier for 13 versus 10\n",
      "training classifier for 13 versus 11\n",
      "training classifier for 13 versus 12\n",
      "training classifier for 14 versus 0\n",
      "training classifier for 14 versus 1\n",
      "training classifier for 14 versus 2\n",
      "training classifier for 14 versus 3\n",
      "training classifier for 14 versus 4\n",
      "training classifier for 14 versus 5\n",
      "training classifier for 14 versus 6\n",
      "training classifier for 14 versus 7\n",
      "training classifier for 14 versus 8\n",
      "training classifier for 14 versus 9\n",
      "training classifier for 14 versus 10\n",
      "training classifier for 14 versus 11\n",
      "training classifier for 14 versus 12\n",
      "training classifier for 14 versus 13\n",
      "training classifier for 15 versus 0\n",
      "training classifier for 15 versus 1\n",
      "training classifier for 15 versus 2\n",
      "training classifier for 15 versus 3\n",
      "training classifier for 15 versus 4\n",
      "training classifier for 15 versus 5\n",
      "training classifier for 15 versus 6\n",
      "training classifier for 15 versus 7\n",
      "training classifier for 15 versus 8\n",
      "training classifier for 15 versus 9\n",
      "training classifier for 15 versus 10\n",
      "training classifier for 15 versus 11\n",
      "training classifier for 15 versus 12\n",
      "training classifier for 15 versus 13\n",
      "training classifier for 15 versus 14\n",
      "training classifier for 16 versus 0\n",
      "training classifier for 16 versus 1\n",
      "training classifier for 16 versus 2\n",
      "training classifier for 16 versus 3\n",
      "training classifier for 16 versus 4\n",
      "training classifier for 16 versus 5\n",
      "training classifier for 16 versus 6\n",
      "training classifier for 16 versus 7\n",
      "training classifier for 16 versus 8\n",
      "training classifier for 16 versus 9\n",
      "training classifier for 16 versus 10\n",
      "training classifier for 16 versus 11\n",
      "training classifier for 16 versus 12\n",
      "training classifier for 16 versus 13\n",
      "training classifier for 16 versus 14\n",
      "training classifier for 16 versus 15\n",
      "training classifier for 17 versus 0\n",
      "training classifier for 17 versus 1\n",
      "training classifier for 17 versus 2\n",
      "training classifier for 17 versus 3\n",
      "training classifier for 17 versus 4\n",
      "training classifier for 17 versus 5\n",
      "training classifier for 17 versus 6\n",
      "training classifier for 17 versus 7\n",
      "training classifier for 17 versus 8\n",
      "training classifier for 17 versus 9\n",
      "training classifier for 17 versus 10\n",
      "training classifier for 17 versus 11\n",
      "training classifier for 17 versus 12\n",
      "training classifier for 17 versus 13\n",
      "training classifier for 17 versus 14\n",
      "training classifier for 17 versus 15\n",
      "training classifier for 17 versus 16\n",
      "training classifier for 18 versus 0\n",
      "training classifier for 18 versus 1\n",
      "training classifier for 18 versus 2\n",
      "training classifier for 18 versus 3\n",
      "training classifier for 18 versus 4\n",
      "training classifier for 18 versus 5\n",
      "training classifier for 18 versus 6\n",
      "training classifier for 18 versus 7\n",
      "training classifier for 18 versus 8\n",
      "training classifier for 18 versus 9\n",
      "training classifier for 18 versus 10\n",
      "training classifier for 18 versus 11\n",
      "training classifier for 18 versus 12\n",
      "training classifier for 18 versus 13\n",
      "training classifier for 18 versus 14\n",
      "training classifier for 18 versus 15\n",
      "training classifier for 18 versus 16\n",
      "training classifier for 18 versus 17\n",
      "training classifier for 19 versus 0\n",
      "training classifier for 19 versus 1\n",
      "training classifier for 19 versus 2\n",
      "training classifier for 19 versus 3\n",
      "training classifier for 19 versus 4\n",
      "training classifier for 19 versus 5\n",
      "training classifier for 19 versus 6\n",
      "training classifier for 19 versus 7\n",
      "training classifier for 19 versus 8\n",
      "training classifier for 19 versus 9\n",
      "training classifier for 19 versus 10\n",
      "training classifier for 19 versus 11\n",
      "training classifier for 19 versus 12\n",
      "training classifier for 19 versus 13\n",
      "training classifier for 19 versus 14\n",
      "training classifier for 19 versus 15\n",
      "training classifier for 19 versus 16\n",
      "training classifier for 19 versus 17\n",
      "training classifier for 19 versus 18\n"
     ]
    }
   ],
   "source": [
    "start = time.time()\n",
    "h = multiclass.AVA(20, lambda: DecisionTreeClassifier(max_depth=1))\n",
    "h.train(WineData.X, WineData.Y)\n",
    "end = time.time()\n",
    "P = h.predictAll(WineData.Xte)\n",
    "acc = mean(P == WineData.Yte)"
   ]
  },
  {
   "cell_type": "code",
   "execution_count": 18,
   "metadata": {},
   "outputs": [
    {
     "name": "stdout",
     "output_type": "stream",
     "text": [
      "AVA accuracy: 0.213358\n",
      "AVA training time taken: 0.24316191673278809 seconds\n"
     ]
    }
   ],
   "source": [
    "print ('AVA accuracy: %f' % acc)\n",
    "print (\"AVA training time taken:\", end - start, \"seconds\")"
   ]
  },
  {
   "cell_type": "markdown",
   "metadata": {},
   "source": [
    "### WU1 C\n",
    "#### WU1 C OAA"
   ]
  },
  {
   "cell_type": "code",
   "execution_count": 59,
   "metadata": {},
   "outputs": [
    {
     "name": "stdout",
     "output_type": "stream",
     "text": [
      "training classifier for 0 versus rest\n",
      "training classifier for 1 versus rest\n",
      "training classifier for 2 versus rest\n",
      "training classifier for 3 versus rest\n",
      "training classifier for 4 versus rest\n",
      "training classifier for 5 versus rest\n",
      "training classifier for 6 versus rest\n",
      "training classifier for 7 versus rest\n",
      "training classifier for 8 versus rest\n",
      "training classifier for 9 versus rest\n",
      "training classifier for 10 versus rest\n",
      "training classifier for 11 versus rest\n",
      "training classifier for 12 versus rest\n",
      "training classifier for 13 versus rest\n",
      "training classifier for 14 versus rest\n",
      "training classifier for 15 versus rest\n",
      "training classifier for 16 versus rest\n",
      "training classifier for 17 versus rest\n",
      "training classifier for 18 versus rest\n",
      "training classifier for 19 versus rest\n"
     ]
    },
    {
     "data": {
      "text/plain": [
       "0.37012987012987014"
      ]
     },
     "execution_count": 59,
     "metadata": {},
     "output_type": "execute_result"
    }
   ],
   "source": [
    "h = multiclass.OAA(20, lambda: DecisionTreeClassifier(max_depth=3))\n",
    "h.train(WineData.X, WineData.Y)"
   ]
  },
  {
   "cell_type": "code",
   "execution_count": 60,
   "metadata": {},
   "outputs": [
    {
     "data": {
      "text/plain": [
       "0.37012987012987014"
      ]
     },
     "execution_count": 60,
     "metadata": {},
     "output_type": "execute_result"
    }
   ],
   "source": [
    "P = h.predictAll(WineData.Xte, useZeroOne=False)\n",
    "mean(P == WineData.Yte)"
   ]
  },
  {
   "cell_type": "code",
   "execution_count": 61,
   "metadata": {},
   "outputs": [
    {
     "data": {
      "text/plain": [
       "0.24489795918367346"
      ]
     },
     "execution_count": 61,
     "metadata": {},
     "output_type": "execute_result"
    }
   ],
   "source": [
    "P = h.predictAll(WineData.Xte, useZeroOne=True)\n",
    "mean(P == WineData.Yte)"
   ]
  },
  {
   "cell_type": "markdown",
   "metadata": {},
   "source": [
    "#### AVA"
   ]
  },
  {
   "cell_type": "code",
   "execution_count": 62,
   "metadata": {},
   "outputs": [
    {
     "name": "stdout",
     "output_type": "stream",
     "text": [
      "training classifier for 1 versus 0\n",
      "training classifier for 2 versus 0\n",
      "training classifier for 2 versus 1\n",
      "training classifier for 3 versus 0\n",
      "training classifier for 3 versus 1\n",
      "training classifier for 3 versus 2\n",
      "training classifier for 4 versus 0\n",
      "training classifier for 4 versus 1\n",
      "training classifier for 4 versus 2\n",
      "training classifier for 4 versus 3\n",
      "training classifier for 5 versus 0\n",
      "training classifier for 5 versus 1\n",
      "training classifier for 5 versus 2\n",
      "training classifier for 5 versus 3\n",
      "training classifier for 5 versus 4\n",
      "training classifier for 6 versus 0\n",
      "training classifier for 6 versus 1\n",
      "training classifier for 6 versus 2\n",
      "training classifier for 6 versus 3\n",
      "training classifier for 6 versus 4\n",
      "training classifier for 6 versus 5\n",
      "training classifier for 7 versus 0\n",
      "training classifier for 7 versus 1\n",
      "training classifier for 7 versus 2\n",
      "training classifier for 7 versus 3\n",
      "training classifier for 7 versus 4\n",
      "training classifier for 7 versus 5\n",
      "training classifier for 7 versus 6\n",
      "training classifier for 8 versus 0\n",
      "training classifier for 8 versus 1\n",
      "training classifier for 8 versus 2\n",
      "training classifier for 8 versus 3\n",
      "training classifier for 8 versus 4\n",
      "training classifier for 8 versus 5\n",
      "training classifier for 8 versus 6\n",
      "training classifier for 8 versus 7\n",
      "training classifier for 9 versus 0\n",
      "training classifier for 9 versus 1\n",
      "training classifier for 9 versus 2\n",
      "training classifier for 9 versus 3\n",
      "training classifier for 9 versus 4\n",
      "training classifier for 9 versus 5\n",
      "training classifier for 9 versus 6\n",
      "training classifier for 9 versus 7\n",
      "training classifier for 9 versus 8\n",
      "training classifier for 10 versus 0\n",
      "training classifier for 10 versus 1\n",
      "training classifier for 10 versus 2\n",
      "training classifier for 10 versus 3\n",
      "training classifier for 10 versus 4\n",
      "training classifier for 10 versus 5\n",
      "training classifier for 10 versus 6\n",
      "training classifier for 10 versus 7\n",
      "training classifier for 10 versus 8\n",
      "training classifier for 10 versus 9\n",
      "training classifier for 11 versus 0\n",
      "training classifier for 11 versus 1\n",
      "training classifier for 11 versus 2\n",
      "training classifier for 11 versus 3\n",
      "training classifier for 11 versus 4\n",
      "training classifier for 11 versus 5\n",
      "training classifier for 11 versus 6\n",
      "training classifier for 11 versus 7\n",
      "training classifier for 11 versus 8\n",
      "training classifier for 11 versus 9\n",
      "training classifier for 11 versus 10\n",
      "training classifier for 12 versus 0\n",
      "training classifier for 12 versus 1\n",
      "training classifier for 12 versus 2\n",
      "training classifier for 12 versus 3\n",
      "training classifier for 12 versus 4\n",
      "training classifier for 12 versus 5\n",
      "training classifier for 12 versus 6\n",
      "training classifier for 12 versus 7\n",
      "training classifier for 12 versus 8\n",
      "training classifier for 12 versus 9\n",
      "training classifier for 12 versus 10\n",
      "training classifier for 12 versus 11\n",
      "training classifier for 13 versus 0\n",
      "training classifier for 13 versus 1\n",
      "training classifier for 13 versus 2\n",
      "training classifier for 13 versus 3\n",
      "training classifier for 13 versus 4\n",
      "training classifier for 13 versus 5\n",
      "training classifier for 13 versus 6\n",
      "training classifier for 13 versus 7\n",
      "training classifier for 13 versus 8\n",
      "training classifier for 13 versus 9\n",
      "training classifier for 13 versus 10\n",
      "training classifier for 13 versus 11\n",
      "training classifier for 13 versus 12\n",
      "training classifier for 14 versus 0\n",
      "training classifier for 14 versus 1\n",
      "training classifier for 14 versus 2\n",
      "training classifier for 14 versus 3\n",
      "training classifier for 14 versus 4\n",
      "training classifier for 14 versus 5\n",
      "training classifier for 14 versus 6\n",
      "training classifier for 14 versus 7\n",
      "training classifier for 14 versus 8\n",
      "training classifier for 14 versus 9\n",
      "training classifier for 14 versus 10\n",
      "training classifier for 14 versus 11\n",
      "training classifier for 14 versus 12\n",
      "training classifier for 14 versus 13\n",
      "training classifier for 15 versus 0\n",
      "training classifier for 15 versus 1\n",
      "training classifier for 15 versus 2\n",
      "training classifier for 15 versus 3\n",
      "training classifier for 15 versus 4\n",
      "training classifier for 15 versus 5\n",
      "training classifier for 15 versus 6\n",
      "training classifier for 15 versus 7\n",
      "training classifier for 15 versus 8\n",
      "training classifier for 15 versus 9\n",
      "training classifier for 15 versus 10\n",
      "training classifier for 15 versus 11\n",
      "training classifier for 15 versus 12\n",
      "training classifier for 15 versus 13\n",
      "training classifier for 15 versus 14\n",
      "training classifier for 16 versus 0\n",
      "training classifier for 16 versus 1\n",
      "training classifier for 16 versus 2\n",
      "training classifier for 16 versus 3\n",
      "training classifier for 16 versus 4\n",
      "training classifier for 16 versus 5\n",
      "training classifier for 16 versus 6\n",
      "training classifier for 16 versus 7\n",
      "training classifier for 16 versus 8\n",
      "training classifier for 16 versus 9\n",
      "training classifier for 16 versus 10\n",
      "training classifier for 16 versus 11\n",
      "training classifier for 16 versus 12\n",
      "training classifier for 16 versus 13\n",
      "training classifier for 16 versus 14\n",
      "training classifier for 16 versus 15\n",
      "training classifier for 17 versus 0\n",
      "training classifier for 17 versus 1\n",
      "training classifier for 17 versus 2\n",
      "training classifier for 17 versus 3\n",
      "training classifier for 17 versus 4\n",
      "training classifier for 17 versus 5\n",
      "training classifier for 17 versus 6\n",
      "training classifier for 17 versus 7\n",
      "training classifier for 17 versus 8\n",
      "training classifier for 17 versus 9\n",
      "training classifier for 17 versus 10\n",
      "training classifier for 17 versus 11\n",
      "training classifier for 17 versus 12\n",
      "training classifier for 17 versus 13\n",
      "training classifier for 17 versus 14\n",
      "training classifier for 17 versus 15\n",
      "training classifier for 17 versus 16\n",
      "training classifier for 18 versus 0\n",
      "training classifier for 18 versus 1\n",
      "training classifier for 18 versus 2\n",
      "training classifier for 18 versus 3\n",
      "training classifier for 18 versus 4\n",
      "training classifier for 18 versus 5\n",
      "training classifier for 18 versus 6\n",
      "training classifier for 18 versus 7\n",
      "training classifier for 18 versus 8\n",
      "training classifier for 18 versus 9\n",
      "training classifier for 18 versus 10\n",
      "training classifier for 18 versus 11\n",
      "training classifier for 18 versus 12\n",
      "training classifier for 18 versus 13\n",
      "training classifier for 18 versus 14\n",
      "training classifier for 18 versus 15\n",
      "training classifier for 18 versus 16\n",
      "training classifier for 18 versus 17\n",
      "training classifier for 19 versus 0\n",
      "training classifier for 19 versus 1\n",
      "training classifier for 19 versus 2\n",
      "training classifier for 19 versus 3\n",
      "training classifier for 19 versus 4\n",
      "training classifier for 19 versus 5\n",
      "training classifier for 19 versus 6\n",
      "training classifier for 19 versus 7\n",
      "training classifier for 19 versus 8\n",
      "training classifier for 19 versus 9\n",
      "training classifier for 19 versus 10\n",
      "training classifier for 19 versus 11\n",
      "training classifier for 19 versus 12\n",
      "training classifier for 19 versus 13\n",
      "training classifier for 19 versus 14\n",
      "training classifier for 19 versus 15\n",
      "training classifier for 19 versus 16\n",
      "training classifier for 19 versus 17\n",
      "training classifier for 19 versus 18\n"
     ]
    }
   ],
   "source": [
    "h = multiclass.AVA(20, lambda: DecisionTreeClassifier(max_depth=3))\n",
    "h.train(WineData.X, WineData.Y)"
   ]
  },
  {
   "cell_type": "code",
   "execution_count": 63,
   "metadata": {},
   "outputs": [
    {
     "data": {
      "text/plain": [
       "0.2662337662337662"
      ]
     },
     "execution_count": 63,
     "metadata": {},
     "output_type": "execute_result"
    }
   ],
   "source": [
    "P = h.predictAll(WineData.Xte, useZeroOne=False)\n",
    "mean(P == WineData.Yte)"
   ]
  },
  {
   "cell_type": "code",
   "execution_count": 64,
   "metadata": {},
   "outputs": [
    {
     "data": {
      "text/plain": [
       "0.26437847866419295"
      ]
     },
     "execution_count": 64,
     "metadata": {},
     "output_type": "execute_result"
    }
   ],
   "source": [
    "P = h.predictAll(WineData.Xte, useZeroOne=True)\n",
    "mean(P == WineData.Yte)"
   ]
  },
  {
   "cell_type": "markdown",
   "metadata": {},
   "source": [
    "# WU2"
   ]
  },
  {
   "cell_type": "code",
   "execution_count": 3,
   "metadata": {},
   "outputs": [
    {
     "name": "stdout",
     "output_type": "stream",
     "text": [
      "training classifier for [0, 1, 2, 3, 4, 5, 6, 7, 8, 9] versus [10, 11, 12, 13, 14, 15, 16, 17, 18, 19]\n",
      "(1077, 819) (1077,)\n",
      "training classifier for [0, 1, 2, 3, 4] versus [5, 6, 7, 8, 9]\n",
      "(796, 819) (796,)\n",
      "training classifier for [0, 1] versus [2, 3, 4]\n",
      "(435, 819) (435,)\n",
      "training classifier for [0] versus [1]\n",
      "(247, 819) (247,)\n",
      "training classifier for [2] versus [3, 4]\n",
      "(188, 819) (188,)\n",
      "training classifier for [3] versus [4]\n",
      "(44, 819) (44,)\n",
      "training classifier for [5, 6] versus [7, 8, 9]\n",
      "(361, 819) (361,)\n",
      "training classifier for [5] versus [6]\n",
      "(208, 819) (208,)\n",
      "training classifier for [7] versus [8, 9]\n",
      "(153, 819) (153,)\n",
      "training classifier for [8] versus [9]\n",
      "(96, 819) (96,)\n",
      "training classifier for [10, 11, 12, 13, 14] versus [15, 16, 17, 18, 19]\n",
      "(281, 819) (281,)\n",
      "training classifier for [10, 11] versus [12, 13, 14]\n",
      "(194, 819) (194,)\n",
      "training classifier for [10] versus [11]\n",
      "(79, 819) (79,)\n",
      "training classifier for [12] versus [13, 14]\n",
      "(115, 819) (115,)\n",
      "training classifier for [13] versus [14]\n",
      "(80, 819) (80,)\n",
      "training classifier for [15, 16] versus [17, 18, 19]\n",
      "(87, 819) (87,)\n",
      "training classifier for [15] versus [16]\n",
      "(48, 819) (48,)\n",
      "training classifier for [17] versus [18, 19]\n",
      "(39, 819) (39,)\n",
      "training classifier for [18] versus [19]\n",
      "(31, 819) (31,)\n"
     ]
    },
    {
     "data": {
      "text/plain": [
       "0.3098330241187384"
      ]
     },
     "execution_count": 3,
     "metadata": {},
     "output_type": "execute_result"
    }
   ],
   "source": [
    "t = multiclass.makeBalancedTree(range(20))\n",
    "h = multiclass.MCTree(t, lambda: DecisionTreeClassifier(max_depth=3))\n",
    "h.train(WineData.X, WineData.Y)\n",
    "P = h.predictAll(WineData.Xte)\n",
    "mean(P == WineData.Yte)"
   ]
  },
  {
   "cell_type": "markdown",
   "metadata": {},
   "source": [
    "## WU3"
   ]
  },
  {
   "cell_type": "code",
   "execution_count": 8,
   "metadata": {},
   "outputs": [],
   "source": [
    "import gd\n",
    "import matplotlib.pyplot as plt"
   ]
  },
  {
   "cell_type": "code",
   "execution_count": 19,
   "metadata": {},
   "outputs": [],
   "source": [
    "x, trajectory = gd.gd(lambda x: x**2, lambda x: 2*x, 10, 10, 0.2)"
   ]
  },
  {
   "cell_type": "code",
   "execution_count": 20,
   "metadata": {},
   "outputs": [
    {
     "data": {
      "text/plain": [
       "[<matplotlib.lines.Line2D at 0x1276305e0>]"
      ]
     },
     "execution_count": 20,
     "metadata": {},
     "output_type": "execute_result"
    },
    {
     "data": {
      "image/png": "[encoded data removed]",
      "text/plain": [
       "<Figure size 432x288 with 1 Axes>"
      ]
     },
     "metadata": {
      "needs_background": "light"
     },
     "output_type": "display_data"
    }
   ],
   "source": [
    "plt.plot(trajectory)"
   ]
  },
  {
   "cell_type": "code",
   "execution_count": 21,
   "metadata": {},
   "outputs": [],
   "source": [
    "x, trajectory = gd.gd(lambda x: x**2, lambda x: 2*x, 10, 10, 0.3)"
   ]
  },
  {
   "cell_type": "code",
   "execution_count": 22,
   "metadata": {},
   "outputs": [
    {
     "data": {
      "text/plain": [
       "[<matplotlib.lines.Line2D at 0x127d2c460>]"
      ]
     },
     "execution_count": 22,
     "metadata": {},
     "output_type": "execute_result"
    },
    {
     "data": {
      "image/png": "[encoded data removed]",
      "text/plain": [
       "<Figure size 432x288 with 1 Axes>"
      ]
     },
     "metadata": {
      "needs_background": "light"
     },
     "output_type": "display_data"
    }
   ],
   "source": [
    "plt.plot(trajectory)"
   ]
  },
  {
   "cell_type": "code",
   "execution_count": 23,
   "metadata": {},
   "outputs": [
    {
     "data": {
      "text/plain": [
       "0.003645900464603937"
      ]
     },
     "execution_count": 23,
     "metadata": {},
     "output_type": "execute_result"
    }
   ],
   "source": [
    "x, trajectory = gd.gd(lambda x: x**2, lambda x: 2*x, 10, 100, 0.2)\n",
    "x"
   ]
  },
  {
   "cell_type": "code",
   "execution_count": 9,
   "metadata": {},
   "outputs": [
    {
     "data": {
      "text/plain": [
       "[<matplotlib.lines.Line2D at 0x127568640>]"
      ]
     },
     "execution_count": 9,
     "metadata": {},
     "output_type": "execute_result"
    },
    {
     "data": {
      "image/png": "[encoded data removed]",
      "text/plain": [
       "<Figure size 432x288 with 1 Axes>"
      ]
     },
     "metadata": {
      "needs_background": "light"
     },
     "output_type": "display_data"
    }
   ],
   "source": [
    "plt.plot(trajectory)"
   ]
  },
  {
   "cell_type": "code",
   "execution_count": 25,
   "metadata": {},
   "outputs": [
    {
     "data": {
      "text/plain": [
       "array([0.0036459 , 0.00182295])"
      ]
     },
     "execution_count": 25,
     "metadata": {},
     "output_type": "execute_result"
    }
   ],
   "source": [
    "x, trajectory = gd.gd(lambda x: linalg.norm(x)**2, lambda x: 2*x, array([10,5]), 100, 0.2)\n",
    "x"
   ]
  },
  {
   "cell_type": "code",
   "execution_count": 27,
   "metadata": {},
   "outputs": [
    {
     "data": {
      "text/plain": [
       "[<matplotlib.lines.Line2D at 0x127d75690>]"
      ]
     },
     "execution_count": 27,
     "metadata": {},
     "output_type": "execute_result"
    },
    {
     "data": {
      "image/png": "[encoded data removed]",
      "text/plain": [
       "<Figure size 432x288 with 1 Axes>"
      ]
     },
     "metadata": {
      "needs_background": "light"
     },
     "output_type": "display_data"
    }
   ],
   "source": [
    "plt.plot(trajectory)"
   ]
  },
  {
   "cell_type": "code",
   "execution_count": null,
   "metadata": {},
   "outputs": [],
   "source": []
  },
  {
   "cell_type": "markdown",
   "metadata": {},
   "source": [
    "## WU5"
   ]
  },
  {
   "cell_type": "code",
   "execution_count": 2,
   "metadata": {},
   "outputs": [],
   "source": [
    "import runClassifier\n",
    "import linear\n",
    "import datasets\n",
    "import mlGraphics"
   ]
  },
  {
   "cell_type": "code",
   "execution_count": 1,
   "metadata": {},
   "outputs": [
    {
     "ename": "NameError",
     "evalue": "name 'linear' is not defined",
     "output_type": "error",
     "traceback": [
      "\u001b[0;31m---------------------------------------------------------------------------\u001b[0m",
      "\u001b[0;31mNameError\u001b[0m                                 Traceback (most recent call last)",
      "\u001b[1;32m/Users/andreanpriadi/Documents/Academic/UMD/CMSC422-MachineLearning/cmsc-422-introduction-to-machine-learning/p2/WU.ipynb Cell 45\u001b[0m in \u001b[0;36m<cell line: 1>\u001b[0;34m()\u001b[0m\n\u001b[0;32m----> <a href='vscode-notebook-cell:/Users/andreanpriadi/Documents/Academic/UMD/CMSC422-MachineLearning/cmsc-422-introduction-to-machine-learning/p2/WU.ipynb#X66sZmlsZQ%3D%3D?line=0'>1</a>\u001b[0m f \u001b[39m=\u001b[39m linear\u001b[39m.\u001b[39mLinearClassifier({\u001b[39m'\u001b[39m\u001b[39mlossFunction\u001b[39m\u001b[39m'\u001b[39m: linear\u001b[39m.\u001b[39mSquaredLoss(), \u001b[39m'\u001b[39m\u001b[39mlambda\u001b[39m\u001b[39m'\u001b[39m: \u001b[39m0\u001b[39m, \u001b[39m'\u001b[39m\u001b[39mnumIter\u001b[39m\u001b[39m'\u001b[39m: \u001b[39m100\u001b[39m, \u001b[39m'\u001b[39m\u001b[39mstepSize\u001b[39m\u001b[39m'\u001b[39m: \u001b[39m0.5\u001b[39m})\n\u001b[1;32m      <a href='vscode-notebook-cell:/Users/andreanpriadi/Documents/Academic/UMD/CMSC422-MachineLearning/cmsc-422-introduction-to-machine-learning/p2/WU.ipynb#X66sZmlsZQ%3D%3D?line=1'>2</a>\u001b[0m runClassifier\u001b[39m.\u001b[39mtrainTestSet(f, datasets\u001b[39m.\u001b[39mTwoDAxisAligned)\n",
      "\u001b[0;31mNameError\u001b[0m: name 'linear' is not defined"
     ]
    }
   ],
   "source": [
    "f = linear.LinearClassifier({'lossFunction': linear.SquaredLoss(), 'lambda': 0, 'numIter': 100, 'stepSize': 0.5})\n",
    "runClassifier.trainTestSet(f, datasets.TwoDAxisAligned)"
   ]
  },
  {
   "cell_type": "code",
   "execution_count": null,
   "metadata": {},
   "outputs": [],
   "source": []
  }
 ],
 "metadata": {
  "kernelspec": {
   "display_name": "Python 3.10.1 64-bit ('3.10.1')",
   "language": "python",
   "name": "python3"
  },
  "language_info": {
   "codemirror_mode": {
    "name": "ipython",
    "version": 3
   },
   "file_extension": ".py",
   "mimetype": "text/x-python",
   "name": "python",
   "nbconvert_exporter": "python",
   "pygments_lexer": "ipython3",
   "version": "3.10.1"
  },
  "orig_nbformat": 4,
  "vscode": {
   "interpreter": {
    "hash": "1d9f2748a924d14a1e73b2cdec00cca53b2debc5062d267fe9863a66cf0534b9"
   }
  }
 },
 "nbformat": 4,
 "nbformat_minor": 2
}
