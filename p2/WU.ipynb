{
 "cells": [
  {
   "cell_type": "markdown",
   "metadata": {},
   "source": [
    "# Project 2: Multiclass and Linear Models\n",
    "By: Andrean Priadi 119407110"
   ]
  },
  {
   "cell_type": "markdown",
   "metadata": {},
   "source": [
    "## WU1"
   ]
  },
  {
   "cell_type": "code",
   "execution_count": 1,
   "metadata": {},
   "outputs": [],
   "source": [
    "from sklearn.tree import DecisionTreeClassifier\n",
    "import multiclass\n",
    "import util\n",
    "from datasets import *\n",
    "import time"
   ]
  },
  {
   "cell_type": "markdown",
   "metadata": {},
   "source": [
    "### WU1 A OAA"
   ]
  },
  {
   "cell_type": "code",
   "execution_count": 2,
   "metadata": {},
   "outputs": [
    {
     "name": "stdout",
     "output_type": "stream",
     "text": [
      "training classifier for 0 versus rest\n",
      "training classifier for 1 versus rest\n",
      "training classifier for 2 versus rest\n",
      "training classifier for 3 versus rest\n",
      "training classifier for 4 versus rest\n"
     ]
    }
   ],
   "source": [
    "h = multiclass.OAA(5, lambda: DecisionTreeClassifier(max_depth=3))\n",
    "h.train(WineDataSmall.X, WineDataSmall.Y)"
   ]
  },
  {
   "cell_type": "code",
   "execution_count": 3,
   "metadata": {},
   "outputs": [
    {
     "name": "stdout",
     "output_type": "stream",
     "text": [
      "Sauvignon-Blanc\n",
      "citrus?\n",
      "-N-> lime?\n",
      "|    -N-> gooseberry?\n",
      "|    |    -N-> class 0\t(356 for class 0, 10 for class 1)\n",
      "|    |    -Y-> class 1\t(0 for class 0, 4 for class 1)\n",
      "|    -Y-> or?\n",
      "|    |    -N-> class 1\t(1 for class 0, 15 for class 1)\n",
      "|    |    -Y-> class 0\t(2 for class 0, 0 for class 1)\n",
      "-Y-> grapefruit?\n",
      "|    -N-> flavors?\n",
      "|    |    -N-> class 1\t(4 for class 0, 12 for class 1)\n",
      "|    |    -Y-> class 0\t(11 for class 0, 5 for class 1)\n",
      "|    -Y-> opens?\n",
      "|    |    -N-> class 1\t(0 for class 0, 14 for class 1)\n",
      "|    |    -Y-> class 0\t(1 for class 0, 0 for class 1)\n"
     ]
    }
   ],
   "source": [
    "print(WineDataSmall.labels[0])\n",
    "util.showTree(h.f[0], WineDataSmall.words)"
   ]
  },
  {
   "cell_type": "markdown",
   "metadata": {},
   "source": [
    "#### Answer:\n",
    "The most indicative words of being Sauvignon-Blanc are(not citrus and lime)\n",
    "The most indicative words of NOT being Sauvignon-Blanc are (not citrus and not lime and not goosebery)"
   ]
  },
  {
   "cell_type": "code",
   "execution_count": 4,
   "metadata": {},
   "outputs": [
    {
     "name": "stdout",
     "output_type": "stream",
     "text": [
      "Pinot-Noir\n",
      "cherry?\n",
      "-N-> raspberries?\n",
      "|    -N-> strawberry?\n",
      "|    |    -N-> class 0\t(225 for class 0, 58 for class 1)\n",
      "|    |    -Y-> class 1\t(0 for class 0, 4 for class 1)\n",
      "|    -Y-> cocoa?\n",
      "|    |    -N-> class 1\t(0 for class 0, 12 for class 1)\n",
      "|    |    -Y-> class 0\t(1 for class 0, 0 for class 1)\n",
      "-Y-> cassis?\n",
      "|    -N-> petit?\n",
      "|    |    -N-> class 1\t(36 for class 0, 68 for class 1)\n",
      "|    |    -Y-> class 0\t(8 for class 0, 0 for class 1)\n",
      "|    -Y-> allspice?\n",
      "|    |    -N-> class 0\t(21 for class 0, 0 for class 1)\n",
      "|    |    -Y-> class 1\t(0 for class 0, 2 for class 1)\n"
     ]
    }
   ],
   "source": [
    "print(WineDataSmall.labels[2])\n",
    "util.showTree(h.f[2], WineDataSmall.words)"
   ]
  },
  {
   "cell_type": "markdown",
   "metadata": {},
   "source": [
    "#### Answer:\n",
    "The most indicative words of being Pinot-Noir are (cherry, not cassis, and not petit)\n",
    "The most indicative words of NOT being Pinot-Noir are (not cherry, not raspberries, and not strawberry)"
   ]
  },
  {
   "cell_type": "markdown",
   "metadata": {},
   "source": [
    "### WU1 A AVA"
   ]
  },
  {
   "cell_type": "code",
   "execution_count": 5,
   "metadata": {},
   "outputs": [
    {
     "name": "stdout",
     "output_type": "stream",
     "text": [
      "training classifier for 1 versus 0\n",
      "training classifier for 2 versus 0\n",
      "training classifier for 2 versus 1\n",
      "training classifier for 3 versus 0\n",
      "training classifier for 3 versus 1\n",
      "training classifier for 3 versus 2\n",
      "training classifier for 4 versus 0\n",
      "training classifier for 4 versus 1\n",
      "training classifier for 4 versus 2\n",
      "training classifier for 4 versus 3\n"
     ]
    }
   ],
   "source": [
    "h = multiclass.AVA(5, lambda: DecisionTreeClassifier(max_depth=3))\n",
    "h.train(WineDataSmall.X, WineDataSmall.Y)"
   ]
  },
  {
   "cell_type": "code",
   "execution_count": 6,
   "metadata": {},
   "outputs": [
    {
     "name": "stdout",
     "output_type": "stream",
     "text": [
      "training classifier for 1 versus 0\n",
      "citrus?\n",
      "-N-> lime?\n",
      "|    -N-> refreshing?\n",
      "|    |    -N-> class 0\t(187 for class 0, 9 for class 1)\n",
      "|    |    -Y-> class 1\t(0 for class 0, 5 for class 1)\n",
      "|    -Y-> class 1\t(0 for class 0, 15 for class 1)\n",
      "-Y-> class 1\t(0 for class 0, 31 for class 1)\n"
     ]
    }
   ],
   "source": [
    "print(\"training classifier for 1 versus 0\")\n",
    "util.showTree(h.f[1][0], WineDataSmall.words)"
   ]
  },
  {
   "cell_type": "code",
   "execution_count": 7,
   "metadata": {},
   "outputs": [
    {
     "name": "stdout",
     "output_type": "stream",
     "text": [
      "training classifier for 2 versus 0\n",
      "crisp?\n",
      "-N-> lime?\n",
      "|    -N-> lemon?\n",
      "|    |    -N-> class 0\t(141 for class 0, 9 for class 1)\n",
      "|    |    -Y-> class 1\t(0 for class 0, 8 for class 1)\n",
      "|    -Y-> persistence?\n",
      "|    |    -N-> class 1\t(0 for class 0, 13 for class 1)\n",
      "|    |    -Y-> class 0\t(1 for class 0, 0 for class 1)\n",
      "-Y-> red?\n",
      "|    -N-> class 1\t(0 for class 0, 30 for class 1)\n",
      "|    -Y-> class 0\t(2 for class 0, 0 for class 1)\n"
     ]
    }
   ],
   "source": [
    "print(\"training classifier for 2 versus 0\")\n",
    "util.showTree(h.f[2][0], WineDataSmall.words)"
   ]
  },
  {
   "cell_type": "code",
   "execution_count": 8,
   "metadata": {},
   "outputs": [
    {
     "name": "stdout",
     "output_type": "stream",
     "text": [
      "training classifier for 3 versus 0\n",
      "thai?\n",
      "-N-> very?\n",
      "|    -N-> between?\n",
      "|    |    -N-> class 1\t(4 for class 0, 56 for class 1)\n",
      "|    |    -Y-> class 0\t(1 for class 0, 0 for class 1)\n",
      "|    -Y-> ripe?\n",
      "|    |    -N-> class 1\t(1 for class 0, 4 for class 1)\n",
      "|    |    -Y-> class 0\t(4 for class 0, 0 for class 1)\n",
      "-Y-> class 0\t(5 for class 0, 0 for class 1)\n"
     ]
    }
   ],
   "source": [
    "print(\"training classifier for 3 versus 0\")\n",
    "util.showTree(h.f[3][0], WineDataSmall.words)"
   ]
  },
  {
   "cell_type": "code",
   "execution_count": 9,
   "metadata": {},
   "outputs": [
    {
     "name": "stdout",
     "output_type": "stream",
     "text": [
      "training classifier for 4 versus 0\n",
      "apple?\n",
      "-N-> pasta?\n",
      "|    -N-> quite?\n",
      "|    |    -N-> class 1\t(11 for class 0, 56 for class 1)\n",
      "|    |    -Y-> class 0\t(3 for class 0, 0 for class 1)\n",
      "|    -Y-> class 0\t(4 for class 0, 0 for class 1)\n",
      "-Y-> bright?\n",
      "|    -N-> class 0\t(10 for class 0, 0 for class 1)\n",
      "|    -Y-> particularly?\n",
      "|    |    -N-> class 1\t(0 for class 0, 4 for class 1)\n",
      "|    |    -Y-> class 0\t(1 for class 0, 0 for class 1)\n"
     ]
    }
   ],
   "source": [
    "print(\"training classifier for 4 versus 0\")\n",
    "util.showTree(h.f[4][0], WineDataSmall.words)"
   ]
  },
  {
   "cell_type": "markdown",
   "metadata": {},
   "source": [
    "#### Answer:\n",
    "The most indicative words of being Sauvignon-Blanc are lime, (crisp and not red), (not thai, not very, not been), (not apple, not pasta, not quite)\n",
    "The most indicative words of NOT being Sauvignon-Blanc are (not lime, not citrus, not refreshing), not lemon"
   ]
  },
  {
   "cell_type": "code",
   "execution_count": 10,
   "metadata": {},
   "outputs": [
    {
     "name": "stdout",
     "output_type": "stream",
     "text": [
      "training classifier for 2 versus 0\n",
      "crisp?\n",
      "-N-> lime?\n",
      "|    -N-> lemon?\n",
      "|    |    -N-> class 0\t(141 for class 0, 9 for class 1)\n",
      "|    |    -Y-> class 1\t(0 for class 0, 8 for class 1)\n",
      "|    -Y-> persistence?\n",
      "|    |    -N-> class 1\t(0 for class 0, 13 for class 1)\n",
      "|    |    -Y-> class 0\t(1 for class 0, 0 for class 1)\n",
      "-Y-> red?\n",
      "|    -N-> class 1\t(0 for class 0, 30 for class 1)\n",
      "|    -Y-> class 0\t(2 for class 0, 0 for class 1)\n"
     ]
    }
   ],
   "source": [
    "print(\"training classifier for 2 versus 0\")\n",
    "util.showTree(h.f[2][0], WineDataSmall.words)"
   ]
  },
  {
   "cell_type": "code",
   "execution_count": 11,
   "metadata": {},
   "outputs": [
    {
     "name": "stdout",
     "output_type": "stream",
     "text": [
      "training classifier for 2 versus 1\n",
      "cassis?\n",
      "-N-> acidity?\n",
      "|    -N-> salmon?\n",
      "|    |    -N-> class 1\t(92 for class 0, 129 for class 1)\n",
      "|    |    -Y-> class 0\t(11 for class 0, 0 for class 1)\n",
      "|    -Y-> tannins?\n",
      "|    |    -N-> class 0\t(22 for class 0, 0 for class 1)\n",
      "|    |    -Y-> class 0\t(15 for class 0, 11 for class 1)\n",
      "-Y-> tea?\n",
      "|    -N-> 100?\n",
      "|    |    -N-> class 1\t(1 for class 0, 47 for class 1)\n",
      "|    |    -Y-> class 0\t(1 for class 0, 0 for class 1)\n",
      "|    -Y-> class 0\t(2 for class 0, 0 for class 1)\n"
     ]
    }
   ],
   "source": [
    "print(\"training classifier for 2 versus 1\")\n",
    "util.showTree(h.f[2][1], WineDataSmall.words)"
   ]
  },
  {
   "cell_type": "code",
   "execution_count": 12,
   "metadata": {},
   "outputs": [
    {
     "name": "stdout",
     "output_type": "stream",
     "text": [
      "training classifier for 3 versus 2\n",
      "crisp?\n",
      "-N-> peach?\n",
      "|    -N-> pear?\n",
      "|    |    -N-> class 1\t(3 for class 0, 142 for class 1)\n",
      "|    |    -Y-> class 0\t(2 for class 0, 0 for class 1)\n",
      "|    -Y-> class 0\t(3 for class 0, 0 for class 1)\n",
      "-Y-> red?\n",
      "|    -N-> class 0\t(7 for class 0, 0 for class 1)\n",
      "|    -Y-> class 1\t(0 for class 0, 2 for class 1)\n"
     ]
    }
   ],
   "source": [
    "print(\"training classifier for 3 versus 2\")\n",
    "util.showTree(h.f[3][2], WineDataSmall.words)"
   ]
  },
  {
   "cell_type": "code",
   "execution_count": 13,
   "metadata": {},
   "outputs": [
    {
     "name": "stdout",
     "output_type": "stream",
     "text": [
      "training classifier for 4 versus 2\n",
      "straw?\n",
      "-N-> crisp?\n",
      "|    -N-> example?\n",
      "|    |    -N-> class 1\t(8 for class 0, 142 for class 1)\n",
      "|    |    -Y-> class 0\t(2 for class 0, 0 for class 1)\n",
      "|    -Y-> red?\n",
      "|    |    -N-> class 0\t(7 for class 0, 0 for class 1)\n",
      "|    |    -Y-> class 1\t(0 for class 0, 2 for class 1)\n",
      "-Y-> class 0\t(12 for class 0, 0 for class 1)\n"
     ]
    }
   ],
   "source": [
    "print(\"training classifier for 4 versus 2\")\n",
    "util.showTree(h.f[4][2], WineDataSmall.words)"
   ]
  },
  {
   "cell_type": "markdown",
   "metadata": {},
   "source": [
    "#### Answer:\n",
    "The most indicative words of being Pinot-Noir are cassis, straw\n",
    "The most indicative words of NOT being Pinot-Noir are crisp"
   ]
  },
  {
   "cell_type": "markdown",
   "metadata": {},
   "source": [
    "## WU1 B"
   ]
  },
  {
   "cell_type": "markdown",
   "metadata": {},
   "source": [
    "### Train depth 3 decision trees on the full WineData task (With 20 labels). What accuracy do you get? How long does this take (in seconds)? One of my least favorite wine is Viognier -- what words are indicative of this?"
   ]
  },
  {
   "cell_type": "markdown",
   "metadata": {},
   "source": [
    "#### WU1 B OAA"
   ]
  },
  {
   "cell_type": "code",
   "execution_count": 14,
   "metadata": {},
   "outputs": [
    {
     "name": "stdout",
     "output_type": "stream",
     "text": [
      "training classifier for 0 versus rest\n",
      "training classifier for 1 versus rest\n",
      "training classifier for 2 versus rest\n",
      "training classifier for 3 versus rest\n",
      "training classifier for 4 versus rest\n",
      "training classifier for 5 versus rest\n",
      "training classifier for 6 versus rest\n",
      "training classifier for 7 versus rest\n",
      "training classifier for 8 versus rest\n",
      "training classifier for 9 versus rest\n",
      "training classifier for 10 versus rest\n",
      "training classifier for 11 versus rest\n",
      "training classifier for 12 versus rest\n",
      "training classifier for 13 versus rest\n",
      "training classifier for 14 versus rest\n",
      "training classifier for 15 versus rest\n",
      "training classifier for 16 versus rest\n",
      "training classifier for 17 versus rest\n",
      "training classifier for 18 versus rest\n",
      "training classifier for 19 versus rest\n"
     ]
    }
   ],
   "source": [
    "start = time.time()\n",
    "h = multiclass.OAA(20, lambda: DecisionTreeClassifier(max_depth=3))\n",
    "end = time.time()\n",
    "h.train(WineData.X, WineData.Y)\n",
    "P = h.predictAll(WineData.Xte)\n",
    "acc = mean(P == WineData.Yte)"
   ]
  },
  {
   "cell_type": "code",
   "execution_count": 15,
   "metadata": {},
   "outputs": [
    {
     "name": "stdout",
     "output_type": "stream",
     "text": [
      "OAA accuracy: 0.368275\n",
      "OAA training time taken: 0.00016808509826660156 seconds\n"
     ]
    }
   ],
   "source": [
    "print ('OAA accuracy: %f' % acc)\n",
    "print (\"OAA training time taken:\", end - start, \"seconds\")"
   ]
  },
  {
   "cell_type": "code",
   "execution_count": 16,
   "metadata": {},
   "outputs": [
    {
     "name": "stdout",
     "output_type": "stream",
     "text": [
      "Viognier\n",
      "peaches?\n",
      "-N-> nectarine?\n",
      "|    -N-> chilled?\n",
      "|    |    -N-> class 0\t(1036 for class 0, 1 for class 1)\n",
      "|    |    -Y-> class 0\t(6 for class 0, 1 for class 1)\n",
      "|    -Y-> savory?\n",
      "|    |    -N-> class 0\t(13 for class 0, 1 for class 1)\n",
      "|    |    -Y-> class 1\t(0 for class 0, 1 for class 1)\n",
      "-Y-> milk?\n",
      "|    -N-> brilliant?\n",
      "|    |    -N-> class 0\t(14 for class 0, 0 for class 1)\n",
      "|    |    -Y-> class 1\t(0 for class 0, 1 for class 1)\n",
      "|    -Y-> class 1\t(0 for class 0, 3 for class 1)\n"
     ]
    }
   ],
   "source": [
    "print(WineData.labels[17])\n",
    "util.showTree(h.f[17], WineData.words)"
   ]
  },
  {
   "cell_type": "markdown",
   "metadata": {},
   "source": [
    "Most indicative words for Viognier are milk\n",
    "\n",
    "Most not indiciate words for Viognier are peaches"
   ]
  },
  {
   "cell_type": "code",
   "execution_count": 17,
   "metadata": {},
   "outputs": [
    {
     "name": "stdout",
     "output_type": "stream",
     "text": [
      "training classifier for 1 versus 0\n",
      "training classifier for 2 versus 0\n",
      "training classifier for 2 versus 1\n",
      "training classifier for 3 versus 0\n",
      "training classifier for 3 versus 1\n",
      "training classifier for 3 versus 2\n",
      "training classifier for 4 versus 0\n",
      "training classifier for 4 versus 1\n",
      "training classifier for 4 versus 2\n",
      "training classifier for 4 versus 3\n",
      "training classifier for 5 versus 0\n",
      "training classifier for 5 versus 1\n",
      "training classifier for 5 versus 2\n",
      "training classifier for 5 versus 3\n",
      "training classifier for 5 versus 4\n",
      "training classifier for 6 versus 0\n",
      "training classifier for 6 versus 1\n",
      "training classifier for 6 versus 2\n",
      "training classifier for 6 versus 3\n",
      "training classifier for 6 versus 4\n",
      "training classifier for 6 versus 5\n",
      "training classifier for 7 versus 0\n",
      "training classifier for 7 versus 1\n",
      "training classifier for 7 versus 2\n",
      "training classifier for 7 versus 3\n",
      "training classifier for 7 versus 4\n",
      "training classifier for 7 versus 5\n",
      "training classifier for 7 versus 6\n",
      "training classifier for 8 versus 0\n",
      "training classifier for 8 versus 1\n",
      "training classifier for 8 versus 2\n",
      "training classifier for 8 versus 3\n",
      "training classifier for 8 versus 4\n",
      "training classifier for 8 versus 5\n",
      "training classifier for 8 versus 6\n",
      "training classifier for 8 versus 7\n",
      "training classifier for 9 versus 0\n",
      "training classifier for 9 versus 1\n",
      "training classifier for 9 versus 2\n",
      "training classifier for 9 versus 3\n",
      "training classifier for 9 versus 4\n",
      "training classifier for 9 versus 5\n",
      "training classifier for 9 versus 6\n",
      "training classifier for 9 versus 7\n",
      "training classifier for 9 versus 8\n",
      "training classifier for 10 versus 0\n",
      "training classifier for 10 versus 1\n",
      "training classifier for 10 versus 2\n",
      "training classifier for 10 versus 3\n",
      "training classifier for 10 versus 4\n",
      "training classifier for 10 versus 5\n",
      "training classifier for 10 versus 6\n",
      "training classifier for 10 versus 7\n",
      "training classifier for 10 versus 8\n",
      "training classifier for 10 versus 9\n",
      "training classifier for 11 versus 0\n",
      "training classifier for 11 versus 1\n",
      "training classifier for 11 versus 2\n",
      "training classifier for 11 versus 3\n",
      "training classifier for 11 versus 4\n",
      "training classifier for 11 versus 5\n",
      "training classifier for 11 versus 6\n",
      "training classifier for 11 versus 7\n",
      "training classifier for 11 versus 8\n",
      "training classifier for 11 versus 9\n",
      "training classifier for 11 versus 10\n",
      "training classifier for 12 versus 0\n",
      "training classifier for 12 versus 1\n",
      "training classifier for 12 versus 2\n",
      "training classifier for 12 versus 3\n",
      "training classifier for 12 versus 4\n",
      "training classifier for 12 versus 5\n",
      "training classifier for 12 versus 6\n",
      "training classifier for 12 versus 7\n",
      "training classifier for 12 versus 8\n",
      "training classifier for 12 versus 9\n",
      "training classifier for 12 versus 10\n",
      "training classifier for 12 versus 11\n",
      "training classifier for 13 versus 0\n",
      "training classifier for 13 versus 1\n",
      "training classifier for 13 versus 2\n",
      "training classifier for 13 versus 3\n",
      "training classifier for 13 versus 4\n",
      "training classifier for 13 versus 5\n",
      "training classifier for 13 versus 6\n",
      "training classifier for 13 versus 7\n",
      "training classifier for 13 versus 8\n",
      "training classifier for 13 versus 9\n",
      "training classifier for 13 versus 10\n",
      "training classifier for 13 versus 11\n",
      "training classifier for 13 versus 12\n",
      "training classifier for 14 versus 0\n",
      "training classifier for 14 versus 1\n",
      "training classifier for 14 versus 2\n",
      "training classifier for 14 versus 3\n",
      "training classifier for 14 versus 4\n",
      "training classifier for 14 versus 5\n",
      "training classifier for 14 versus 6\n",
      "training classifier for 14 versus 7\n",
      "training classifier for 14 versus 8\n",
      "training classifier for 14 versus 9\n",
      "training classifier for 14 versus 10\n",
      "training classifier for 14 versus 11\n",
      "training classifier for 14 versus 12\n",
      "training classifier for 14 versus 13\n",
      "training classifier for 15 versus 0\n",
      "training classifier for 15 versus 1\n",
      "training classifier for 15 versus 2\n",
      "training classifier for 15 versus 3\n",
      "training classifier for 15 versus 4\n",
      "training classifier for 15 versus 5\n",
      "training classifier for 15 versus 6\n",
      "training classifier for 15 versus 7\n",
      "training classifier for 15 versus 8\n",
      "training classifier for 15 versus 9\n",
      "training classifier for 15 versus 10\n",
      "training classifier for 15 versus 11\n",
      "training classifier for 15 versus 12\n",
      "training classifier for 15 versus 13\n",
      "training classifier for 15 versus 14\n",
      "training classifier for 16 versus 0\n",
      "training classifier for 16 versus 1\n",
      "training classifier for 16 versus 2\n",
      "training classifier for 16 versus 3\n",
      "training classifier for 16 versus 4\n",
      "training classifier for 16 versus 5\n",
      "training classifier for 16 versus 6\n",
      "training classifier for 16 versus 7\n",
      "training classifier for 16 versus 8\n",
      "training classifier for 16 versus 9\n",
      "training classifier for 16 versus 10\n",
      "training classifier for 16 versus 11\n",
      "training classifier for 16 versus 12\n",
      "training classifier for 16 versus 13\n",
      "training classifier for 16 versus 14\n",
      "training classifier for 16 versus 15\n",
      "training classifier for 17 versus 0\n",
      "training classifier for 17 versus 1\n",
      "training classifier for 17 versus 2\n",
      "training classifier for 17 versus 3\n",
      "training classifier for 17 versus 4\n",
      "training classifier for 17 versus 5\n",
      "training classifier for 17 versus 6\n",
      "training classifier for 17 versus 7\n",
      "training classifier for 17 versus 8\n",
      "training classifier for 17 versus 9\n",
      "training classifier for 17 versus 10\n",
      "training classifier for 17 versus 11\n",
      "training classifier for 17 versus 12\n",
      "training classifier for 17 versus 13\n",
      "training classifier for 17 versus 14\n",
      "training classifier for 17 versus 15\n",
      "training classifier for 17 versus 16\n",
      "training classifier for 18 versus 0\n",
      "training classifier for 18 versus 1\n",
      "training classifier for 18 versus 2\n",
      "training classifier for 18 versus 3\n",
      "training classifier for 18 versus 4\n",
      "training classifier for 18 versus 5\n",
      "training classifier for 18 versus 6\n",
      "training classifier for 18 versus 7\n",
      "training classifier for 18 versus 8\n",
      "training classifier for 18 versus 9\n",
      "training classifier for 18 versus 10\n",
      "training classifier for 18 versus 11\n",
      "training classifier for 18 versus 12\n",
      "training classifier for 18 versus 13\n",
      "training classifier for 18 versus 14\n",
      "training classifier for 18 versus 15\n",
      "training classifier for 18 versus 16\n",
      "training classifier for 18 versus 17\n",
      "training classifier for 19 versus 0\n",
      "training classifier for 19 versus 1\n",
      "training classifier for 19 versus 2\n",
      "training classifier for 19 versus 3\n",
      "training classifier for 19 versus 4\n",
      "training classifier for 19 versus 5\n",
      "training classifier for 19 versus 6\n",
      "training classifier for 19 versus 7\n",
      "training classifier for 19 versus 8\n",
      "training classifier for 19 versus 9\n",
      "training classifier for 19 versus 10\n",
      "training classifier for 19 versus 11\n",
      "training classifier for 19 versus 12\n",
      "training classifier for 19 versus 13\n",
      "training classifier for 19 versus 14\n",
      "training classifier for 19 versus 15\n",
      "training classifier for 19 versus 16\n",
      "training classifier for 19 versus 17\n",
      "training classifier for 19 versus 18\n"
     ]
    }
   ],
   "source": [
    "start = time.time()\n",
    "h = multiclass.AVA(20, lambda: DecisionTreeClassifier(max_depth=1))\n",
    "h.train(WineData.X, WineData.Y)\n",
    "end = time.time()\n",
    "P = h.predictAll(WineData.Xte)\n",
    "acc = mean(P == WineData.Yte)"
   ]
  },
  {
   "cell_type": "code",
   "execution_count": 18,
   "metadata": {},
   "outputs": [
    {
     "name": "stdout",
     "output_type": "stream",
     "text": [
      "AVA accuracy: 0.212430\n",
      "AVA training time taken: 0.24743103981018066 seconds\n"
     ]
    }
   ],
   "source": [
    "print ('AVA accuracy: %f' % acc)\n",
    "print (\"AVA training time taken:\", end - start, \"seconds\")"
   ]
  },
  {
   "cell_type": "markdown",
   "metadata": {},
   "source": [
    "### WU1 C\n",
    "#### WU1 C OAA"
   ]
  },
  {
   "cell_type": "code",
   "execution_count": 19,
   "metadata": {},
   "outputs": [
    {
     "name": "stdout",
     "output_type": "stream",
     "text": [
      "training classifier for 0 versus rest\n",
      "training classifier for 1 versus rest\n",
      "training classifier for 2 versus rest\n",
      "training classifier for 3 versus rest\n",
      "training classifier for 4 versus rest\n",
      "training classifier for 5 versus rest\n",
      "training classifier for 6 versus rest\n",
      "training classifier for 7 versus rest\n",
      "training classifier for 8 versus rest\n",
      "training classifier for 9 versus rest\n",
      "training classifier for 10 versus rest\n",
      "training classifier for 11 versus rest\n",
      "training classifier for 12 versus rest\n",
      "training classifier for 13 versus rest\n",
      "training classifier for 14 versus rest\n",
      "training classifier for 15 versus rest\n",
      "training classifier for 16 versus rest\n",
      "training classifier for 17 versus rest\n",
      "training classifier for 18 versus rest\n",
      "training classifier for 19 versus rest\n"
     ]
    }
   ],
   "source": [
    "h = multiclass.OAA(20, lambda: DecisionTreeClassifier(max_depth=3))\n",
    "h.train(WineData.X, WineData.Y)"
   ]
  },
  {
   "cell_type": "code",
   "execution_count": 20,
   "metadata": {},
   "outputs": [
    {
     "data": {
      "text/plain": [
       "0.37105751391465674"
      ]
     },
     "execution_count": 20,
     "metadata": {},
     "output_type": "execute_result"
    }
   ],
   "source": [
    "P = h.predictAll(WineData.Xte, useZeroOne=False)\n",
    "mean(P == WineData.Yte)"
   ]
  },
  {
   "cell_type": "code",
   "execution_count": 21,
   "metadata": {},
   "outputs": [
    {
     "data": {
      "text/plain": [
       "0.24953617810760667"
      ]
     },
     "execution_count": 21,
     "metadata": {},
     "output_type": "execute_result"
    }
   ],
   "source": [
    "P = h.predictAll(WineData.Xte, useZeroOne=True)\n",
    "mean(P == WineData.Yte)"
   ]
  },
  {
   "cell_type": "markdown",
   "metadata": {},
   "source": [
    "#### AVA"
   ]
  },
  {
   "cell_type": "code",
   "execution_count": 22,
   "metadata": {},
   "outputs": [
    {
     "name": "stdout",
     "output_type": "stream",
     "text": [
      "training classifier for 1 versus 0\n",
      "training classifier for 2 versus 0\n",
      "training classifier for 2 versus 1\n",
      "training classifier for 3 versus 0\n",
      "training classifier for 3 versus 1\n",
      "training classifier for 3 versus 2\n",
      "training classifier for 4 versus 0\n",
      "training classifier for 4 versus 1\n",
      "training classifier for 4 versus 2\n",
      "training classifier for 4 versus 3\n",
      "training classifier for 5 versus 0\n",
      "training classifier for 5 versus 1\n",
      "training classifier for 5 versus 2\n",
      "training classifier for 5 versus 3\n",
      "training classifier for 5 versus 4\n",
      "training classifier for 6 versus 0\n",
      "training classifier for 6 versus 1\n",
      "training classifier for 6 versus 2\n",
      "training classifier for 6 versus 3\n",
      "training classifier for 6 versus 4\n",
      "training classifier for 6 versus 5\n",
      "training classifier for 7 versus 0\n",
      "training classifier for 7 versus 1\n",
      "training classifier for 7 versus 2\n",
      "training classifier for 7 versus 3\n",
      "training classifier for 7 versus 4\n",
      "training classifier for 7 versus 5\n",
      "training classifier for 7 versus 6\n",
      "training classifier for 8 versus 0\n",
      "training classifier for 8 versus 1\n",
      "training classifier for 8 versus 2\n",
      "training classifier for 8 versus 3\n",
      "training classifier for 8 versus 4\n",
      "training classifier for 8 versus 5\n",
      "training classifier for 8 versus 6\n",
      "training classifier for 8 versus 7\n",
      "training classifier for 9 versus 0\n",
      "training classifier for 9 versus 1\n",
      "training classifier for 9 versus 2\n",
      "training classifier for 9 versus 3\n",
      "training classifier for 9 versus 4\n",
      "training classifier for 9 versus 5\n",
      "training classifier for 9 versus 6\n",
      "training classifier for 9 versus 7\n",
      "training classifier for 9 versus 8\n",
      "training classifier for 10 versus 0\n",
      "training classifier for 10 versus 1\n",
      "training classifier for 10 versus 2\n",
      "training classifier for 10 versus 3\n",
      "training classifier for 10 versus 4\n",
      "training classifier for 10 versus 5\n",
      "training classifier for 10 versus 6\n",
      "training classifier for 10 versus 7\n",
      "training classifier for 10 versus 8\n",
      "training classifier for 10 versus 9\n",
      "training classifier for 11 versus 0\n",
      "training classifier for 11 versus 1\n",
      "training classifier for 11 versus 2\n",
      "training classifier for 11 versus 3\n",
      "training classifier for 11 versus 4\n",
      "training classifier for 11 versus 5\n",
      "training classifier for 11 versus 6\n",
      "training classifier for 11 versus 7\n",
      "training classifier for 11 versus 8\n",
      "training classifier for 11 versus 9\n",
      "training classifier for 11 versus 10\n",
      "training classifier for 12 versus 0\n",
      "training classifier for 12 versus 1\n",
      "training classifier for 12 versus 2\n",
      "training classifier for 12 versus 3\n",
      "training classifier for 12 versus 4\n",
      "training classifier for 12 versus 5\n",
      "training classifier for 12 versus 6\n",
      "training classifier for 12 versus 7\n",
      "training classifier for 12 versus 8\n",
      "training classifier for 12 versus 9\n",
      "training classifier for 12 versus 10\n",
      "training classifier for 12 versus 11\n",
      "training classifier for 13 versus 0\n",
      "training classifier for 13 versus 1\n",
      "training classifier for 13 versus 2\n",
      "training classifier for 13 versus 3\n",
      "training classifier for 13 versus 4\n",
      "training classifier for 13 versus 5\n",
      "training classifier for 13 versus 6\n",
      "training classifier for 13 versus 7\n",
      "training classifier for 13 versus 8\n",
      "training classifier for 13 versus 9\n",
      "training classifier for 13 versus 10\n",
      "training classifier for 13 versus 11\n",
      "training classifier for 13 versus 12\n",
      "training classifier for 14 versus 0\n",
      "training classifier for 14 versus 1\n",
      "training classifier for 14 versus 2\n",
      "training classifier for 14 versus 3\n",
      "training classifier for 14 versus 4\n",
      "training classifier for 14 versus 5\n",
      "training classifier for 14 versus 6\n",
      "training classifier for 14 versus 7\n",
      "training classifier for 14 versus 8\n",
      "training classifier for 14 versus 9\n",
      "training classifier for 14 versus 10\n",
      "training classifier for 14 versus 11\n",
      "training classifier for 14 versus 12\n",
      "training classifier for 14 versus 13\n",
      "training classifier for 15 versus 0\n",
      "training classifier for 15 versus 1\n",
      "training classifier for 15 versus 2\n",
      "training classifier for 15 versus 3\n",
      "training classifier for 15 versus 4\n",
      "training classifier for 15 versus 5\n",
      "training classifier for 15 versus 6\n",
      "training classifier for 15 versus 7\n",
      "training classifier for 15 versus 8\n",
      "training classifier for 15 versus 9\n",
      "training classifier for 15 versus 10\n",
      "training classifier for 15 versus 11\n",
      "training classifier for 15 versus 12\n",
      "training classifier for 15 versus 13\n",
      "training classifier for 15 versus 14\n",
      "training classifier for 16 versus 0\n",
      "training classifier for 16 versus 1\n",
      "training classifier for 16 versus 2\n",
      "training classifier for 16 versus 3\n",
      "training classifier for 16 versus 4\n",
      "training classifier for 16 versus 5\n",
      "training classifier for 16 versus 6\n",
      "training classifier for 16 versus 7\n",
      "training classifier for 16 versus 8\n",
      "training classifier for 16 versus 9\n",
      "training classifier for 16 versus 10\n",
      "training classifier for 16 versus 11\n",
      "training classifier for 16 versus 12\n",
      "training classifier for 16 versus 13\n",
      "training classifier for 16 versus 14\n",
      "training classifier for 16 versus 15\n",
      "training classifier for 17 versus 0\n",
      "training classifier for 17 versus 1\n",
      "training classifier for 17 versus 2\n",
      "training classifier for 17 versus 3\n",
      "training classifier for 17 versus 4\n",
      "training classifier for 17 versus 5\n",
      "training classifier for 17 versus 6\n",
      "training classifier for 17 versus 7\n",
      "training classifier for 17 versus 8\n",
      "training classifier for 17 versus 9\n",
      "training classifier for 17 versus 10\n",
      "training classifier for 17 versus 11\n",
      "training classifier for 17 versus 12\n",
      "training classifier for 17 versus 13\n",
      "training classifier for 17 versus 14\n",
      "training classifier for 17 versus 15\n",
      "training classifier for 17 versus 16\n",
      "training classifier for 18 versus 0\n",
      "training classifier for 18 versus 1\n",
      "training classifier for 18 versus 2\n",
      "training classifier for 18 versus 3\n",
      "training classifier for 18 versus 4\n",
      "training classifier for 18 versus 5\n",
      "training classifier for 18 versus 6\n",
      "training classifier for 18 versus 7\n",
      "training classifier for 18 versus 8\n",
      "training classifier for 18 versus 9\n",
      "training classifier for 18 versus 10\n",
      "training classifier for 18 versus 11\n",
      "training classifier for 18 versus 12\n",
      "training classifier for 18 versus 13\n",
      "training classifier for 18 versus 14\n",
      "training classifier for 18 versus 15\n",
      "training classifier for 18 versus 16\n",
      "training classifier for 18 versus 17\n",
      "training classifier for 19 versus 0\n",
      "training classifier for 19 versus 1\n",
      "training classifier for 19 versus 2\n",
      "training classifier for 19 versus 3\n",
      "training classifier for 19 versus 4\n",
      "training classifier for 19 versus 5\n",
      "training classifier for 19 versus 6\n",
      "training classifier for 19 versus 7\n",
      "training classifier for 19 versus 8\n",
      "training classifier for 19 versus 9\n",
      "training classifier for 19 versus 10\n",
      "training classifier for 19 versus 11\n",
      "training classifier for 19 versus 12\n",
      "training classifier for 19 versus 13\n",
      "training classifier for 19 versus 14\n",
      "training classifier for 19 versus 15\n",
      "training classifier for 19 versus 16\n",
      "training classifier for 19 versus 17\n",
      "training classifier for 19 versus 18\n"
     ]
    }
   ],
   "source": [
    "h = multiclass.AVA(20, lambda: DecisionTreeClassifier(max_depth=3))\n",
    "h.train(WineData.X, WineData.Y)"
   ]
  },
  {
   "cell_type": "code",
   "execution_count": 23,
   "metadata": {},
   "outputs": [
    {
     "data": {
      "text/plain": [
       "0.2653061224489796"
      ]
     },
     "execution_count": 23,
     "metadata": {},
     "output_type": "execute_result"
    }
   ],
   "source": [
    "P = h.predictAll(WineData.Xte, useZeroOne=False)\n",
    "mean(P == WineData.Yte)"
   ]
  },
  {
   "cell_type": "code",
   "execution_count": 24,
   "metadata": {},
   "outputs": [
    {
     "data": {
      "text/plain": [
       "0.2634508348794063"
      ]
     },
     "execution_count": 24,
     "metadata": {},
     "output_type": "execute_result"
    }
   ],
   "source": [
    "P = h.predictAll(WineData.Xte, useZeroOne=True)\n",
    "mean(P == WineData.Yte)"
   ]
  },
  {
   "cell_type": "markdown",
   "metadata": {},
   "source": [
    "# WU2"
   ]
  },
  {
   "cell_type": "code",
   "execution_count": 25,
   "metadata": {},
   "outputs": [
    {
     "name": "stdout",
     "output_type": "stream",
     "text": [
      "training classifier for [0, 1, 2, 3, 4, 5, 6, 7, 8, 9] versus [10, 11, 12, 13, 14, 15, 16, 17, 18, 19]\n",
      "training classifier for [0, 1, 2, 3, 4] versus [5, 6, 7, 8, 9]\n",
      "training classifier for [0, 1] versus [2, 3, 4]\n",
      "training classifier for [0] versus [1]\n",
      "training classifier for [2] versus [3, 4]\n",
      "training classifier for [3] versus [4]\n",
      "training classifier for [5, 6] versus [7, 8, 9]\n",
      "training classifier for [5] versus [6]\n",
      "training classifier for [7] versus [8, 9]\n",
      "training classifier for [8] versus [9]\n",
      "training classifier for [10, 11, 12, 13, 14] versus [15, 16, 17, 18, 19]\n",
      "training classifier for [10, 11] versus [12, 13, 14]\n",
      "training classifier for [10] versus [11]\n",
      "training classifier for [12] versus [13, 14]\n",
      "training classifier for [13] versus [14]\n",
      "training classifier for [15, 16] versus [17, 18, 19]\n",
      "training classifier for [15] versus [16]\n",
      "training classifier for [17] versus [18, 19]\n",
      "training classifier for [18] versus [19]\n"
     ]
    },
    {
     "data": {
      "text/plain": [
       "0.3098330241187384"
      ]
     },
     "execution_count": 25,
     "metadata": {},
     "output_type": "execute_result"
    }
   ],
   "source": [
    "t = multiclass.makeBalancedTree(range(20))\n",
    "h = multiclass.MCTree(t, lambda: DecisionTreeClassifier(max_depth=3))\n",
    "h.train(WineData.X, WineData.Y)\n",
    "P = h.predictAll(WineData.Xte)\n",
    "mean(P == WineData.Yte)"
   ]
  },
  {
   "cell_type": "markdown",
   "metadata": {},
   "source": [
    "## WU3"
   ]
  },
  {
   "cell_type": "code",
   "execution_count": 26,
   "metadata": {},
   "outputs": [],
   "source": [
    "import gd\n",
    "import matplotlib.pyplot as plt"
   ]
  },
  {
   "cell_type": "code",
   "execution_count": 27,
   "metadata": {},
   "outputs": [],
   "source": [
    "x, trajectory = gd.gd(lambda x: x**2, lambda x: 2*x, 10, 10, 0.1)"
   ]
  },
  {
   "cell_type": "code",
   "execution_count": 28,
   "metadata": {},
   "outputs": [
    {
     "data": {
      "text/plain": [
       "[<matplotlib.lines.Line2D at 0x1269a4d90>]"
      ]
     },
     "execution_count": 28,
     "metadata": {},
     "output_type": "execute_result"
    },
    {
     "data": {
      "image/png": "[encoded data removed]",
      "text/plain": [
       "<Figure size 432x288 with 1 Axes>"
      ]
     },
     "metadata": {
      "needs_background": "light"
     },
     "output_type": "display_data"
    }
   ],
   "source": [
    "plt.plot(trajectory)"
   ]
  },
  {
   "cell_type": "code",
   "execution_count": 29,
   "metadata": {},
   "outputs": [
    {
     "data": {
      "text/plain": [
       "0.033242949530843946"
      ]
     },
     "execution_count": 29,
     "metadata": {},
     "output_type": "execute_result"
    }
   ],
   "source": [
    "x, trajectory = gd.gd(lambda x: x**2, lambda x: 2*x, 10, 10, 0.4)\n",
    "x"
   ]
  },
  {
   "cell_type": "code",
   "execution_count": 30,
   "metadata": {},
   "outputs": [
    {
     "data": {
      "text/plain": [
       "[<matplotlib.lines.Line2D at 0x126a649d0>]"
      ]
     },
     "execution_count": 30,
     "metadata": {},
     "output_type": "execute_result"
    },
    {
     "data": {
      "image/png": "[encoded data removed]",
      "text/plain": [
       "<Figure size 432x288 with 1 Axes>"
      ]
     },
     "metadata": {
      "needs_background": "light"
     },
     "output_type": "display_data"
    }
   ],
   "source": [
    "plt.plot(trajectory)"
   ]
  },
  {
   "cell_type": "markdown",
   "metadata": {},
   "source": [
    "#### WU3 Answer:\n",
    "Step size plays an important role for us to find the local minima. It should not be too small or too large. Hence, it should not too diverging or too converging\n",
    "\n",
    "From above example:\n",
    "\n",
    "when step size = 0.1, it diverges.\n",
    "\n",
    "when step size = 0.4, it converges."
   ]
  },
  {
   "cell_type": "markdown",
   "metadata": {},
   "source": [
    "## WU4"
   ]
  },
  {
   "cell_type": "code",
   "execution_count": 31,
   "metadata": {},
   "outputs": [
    {
     "data": {
      "text/plain": [
       "-1.2975801408641767"
      ]
     },
     "execution_count": 31,
     "metadata": {},
     "output_type": "execute_result"
    }
   ],
   "source": [
    "from math import *\n",
    "# non convex function (Global minimum)\n",
    "x, trajectory = gd.gd(lambda x: x**2 + 10*sin(x), lambda x: 2*x + 10*cos(x), -1, 10, 0.05)\n",
    "x"
   ]
  },
  {
   "cell_type": "code",
   "execution_count": 32,
   "metadata": {},
   "outputs": [
    {
     "data": {
      "text/plain": [
       "[<matplotlib.lines.Line2D at 0x126aa9e10>]"
      ]
     },
     "execution_count": 32,
     "metadata": {},
     "output_type": "execute_result"
    },
    {
     "data": {
      "image/png": "[encoded data removed]",
      "text/plain": [
       "<Figure size 432x288 with 1 Axes>"
      ]
     },
     "metadata": {
      "needs_background": "light"
     },
     "output_type": "display_data"
    }
   ],
   "source": [
    "plt.plot(trajectory)"
   ]
  },
  {
   "cell_type": "code",
   "execution_count": 33,
   "metadata": {},
   "outputs": [
    {
     "data": {
      "text/plain": [
       "3.6919703328267657"
      ]
     },
     "execution_count": 33,
     "metadata": {},
     "output_type": "execute_result"
    }
   ],
   "source": [
    "from math import *\n",
    "# non convex function (local minimum)\n",
    "x, trajectory = gd.gd(lambda x: x**2 + 10*sin(x), lambda x: 2*x + 10*cos(x), 3, 10, 0.05)\n",
    "x"
   ]
  },
  {
   "cell_type": "code",
   "execution_count": 34,
   "metadata": {},
   "outputs": [
    {
     "data": {
      "text/plain": [
       "[<matplotlib.lines.Line2D at 0x126af2bf0>]"
      ]
     },
     "execution_count": 34,
     "metadata": {},
     "output_type": "execute_result"
    },
    {
     "data": {
      "image/png": "[encoded data removed]",
      "text/plain": [
       "<Figure size 432x288 with 1 Axes>"
      ]
     },
     "metadata": {
      "needs_background": "light"
     },
     "output_type": "display_data"
    }
   ],
   "source": [
    "plt.plot(trajectory)"
   ]
  },
  {
   "cell_type": "markdown",
   "metadata": {},
   "source": [
    "## WU5"
   ]
  },
  {
   "cell_type": "code",
   "execution_count": 35,
   "metadata": {},
   "outputs": [],
   "source": [
    "import runClassifier\n",
    "import linear\n",
    "import datasets\n",
    "import mlGraphics"
   ]
  },
  {
   "cell_type": "code",
   "execution_count": 36,
   "metadata": {},
   "outputs": [
    {
     "name": "stdout",
     "output_type": "stream",
     "text": [
      "Training accuracy 0.242915, test accuracy 0.313653\n"
     ]
    }
   ],
   "source": [
    "f = linear.LinearClassifier({'lossFunction': linear.SquaredLoss(), 'lambda': 1, 'numIter': 100, 'stepSize': 0.5})\n",
    "runClassifier.trainTestSet(f, datasets.WineDataBinary)"
   ]
  },
  {
   "cell_type": "code",
   "execution_count": 37,
   "metadata": {},
   "outputs": [
    {
     "name": "stdout",
     "output_type": "stream",
     "text": [
      "Training accuracy 0.995951, test accuracy 0.97417\n"
     ]
    }
   ],
   "source": [
    "f = linear.LinearClassifier({'lossFunction': linear.LogisticLoss(), 'lambda': 1, 'numIter': 100, 'stepSize': 0.5})\n",
    "runClassifier.trainTestSet(f, datasets.WineDataBinary)"
   ]
  },
  {
   "cell_type": "code",
   "execution_count": 38,
   "metadata": {},
   "outputs": [
    {
     "data": {
      "text/plain": [
       "[(-1.1695212164040434, 'tannins'),\n",
       " (-0.7653093906427076, 'black'),\n",
       " (-0.6835931677893788, 'dark'),\n",
       " (-0.6295907281434356, 'cherry'),\n",
       " (-0.5321916724675303, 'blackberry'),\n",
       " (-0.5092846891935376, 'deep'),\n",
       " (-0.4742724034212623, 'red'),\n",
       " (-0.464098396577844, 'oak'),\n",
       " (-0.4393804627551591, 'berry'),\n",
       " (-0.4306169644161318, 'chocolate'),\n",
       " (-0.4202651419017117, 'currant'),\n",
       " (-0.3974537952686579, 'plum'),\n",
       " (-0.39673551395193246, 'soft'),\n",
       " (-0.3651026008004167, 'vanilla'),\n",
       " (-0.3588029028532654, 'years'),\n",
       " (-0.34944865069051934, 'structure'),\n",
       " (-0.33879523379511506, 'cassis'),\n",
       " (-0.3359318389706689, 'flavors'),\n",
       " (-0.3274528079180455, 'cocoa'),\n",
       " (-0.3005539369064018, 'spice'),\n",
       " (-0.28375576962558524, 'valley'),\n",
       " (-0.2653345344211855, 'tobacco'),\n",
       " (-0.2640374487031105, 'is'),\n",
       " (-0.2601717767845841, 'supple'),\n",
       " (-0.2555187032348373, 'very'),\n",
       " (-0.25497141259624234, ';'),\n",
       " (-0.24962822438910076, 'lush'),\n",
       " (-0.24886970249942986, 'rich'),\n",
       " (-0.245575367141781, 'vintage'),\n",
       " (-0.24221421404409277, 'verdot'),\n",
       " (-0.23707252760696843, 'full-bodied'),\n",
       " (-0.23471611755228672, 'can'),\n",
       " (-0.23231371811502588, 'berries'),\n",
       " (-0.22795170230775483, 'youthful'),\n",
       " (-0.2270028479622386, 'cherries'),\n",
       " (-0.22591332309076378, 'be'),\n",
       " (-0.22560721341255846, 'smooth'),\n",
       " (-0.22396668670618422, 'you'),\n",
       " (-0.2216704242049923, 'licorice'),\n",
       " (-0.2209909885411165, 'medium'),\n",
       " (-0.20877786215825234, 'long'),\n",
       " (-0.20874946081167312, 'espresso'),\n",
       " (-0.20400249443017376, 'mocha'),\n",
       " (-0.20223794180964197, 'silky'),\n",
       " (-0.20196835066916252, 'cedar'),\n",
       " (-0.20126511028417957, 'petit'),\n",
       " (-0.20056409452917348, 'raspberry'),\n",
       " (-0.19719674206038554, 'concentrated'),\n",
       " (-0.19594021898909408, 'purple'),\n",
       " (-0.19283328631090685, 'spices'),\n",
       " (-0.1875020469525165, 'texture'),\n",
       " (-0.18718287386202093, 'cola'),\n",
       " (-0.18464525575178029, '5'),\n",
       " (-0.1834218559315892, 'mint'),\n",
       " (-0.18337318076768808, '20'),\n",
       " (-0.17908024566539166, 'round'),\n",
       " (-0.17907110483694594, 'to'),\n",
       " (-0.17877676415684984, '&'),\n",
       " (-0.17738856184412952, 'each'),\n",
       " (-0.17334571962176507, 'elegant'),\n",
       " (-0.17317719439203194, 'structured'),\n",
       " (-0.17316677270083103, 'finish'),\n",
       " (-0.16837262092819244, 'textured'),\n",
       " (-0.16672189601165774, '2009'),\n",
       " (-0.16408209349212474, 'coupled'),\n",
       " (-0.16403397911050843, 'expression'),\n",
       " (-0.16379707447097863, 'crimson'),\n",
       " (-0.16348975549371755, 'wine'),\n",
       " (-0.15906163864041228, 'will'),\n",
       " (-0.1585149405973172, 'nuances'),\n",
       " (-0.15809940324277036, 'roasted'),\n",
       " (-0.15794908161393476, 'forward'),\n",
       " (-0.1543856529557695, 'velvety'),\n",
       " (-0.1536278028908627, 'lead'),\n",
       " (-0.15003089723484697, 'warm'),\n",
       " (-0.149870751327968, 'shows'),\n",
       " (-0.1480087570390206, 'franc'),\n",
       " (-0.14718252362996684, 'wines'),\n",
       " (-0.1466346605826882, 'balanced'),\n",
       " (-0.145983389910992, 'napa'),\n",
       " (-0.14556728668306193, 'mountain'),\n",
       " (-0.14327487855667373, 'new'),\n",
       " (-0.14155335701504843, 'big'),\n",
       " (-0.14138755858286414, 'hints'),\n",
       " (-0.14084248020007173, 'dry'),\n",
       " (-0.13916119180760683, 'hint'),\n",
       " (-0.13704054838726884, 'firm'),\n",
       " (-0.1369072920211587, 'rose'),\n",
       " (-0.136572190342604, 'seamlessly'),\n",
       " (-0.13528052967755083, 'sweet'),\n",
       " (-0.13446791082272813, 'grilled'),\n",
       " (-0.13347815909357522, 'estate'),\n",
       " (-0.133245465483266, 'integrated'),\n",
       " (-0.13282820779923252, '2'),\n",
       " (-0.13261328491499744, 'herb'),\n",
       " (-0.1307209749862375, 'at'),\n",
       " (-0.12988970238669217, 'tannin'),\n",
       " (-0.12973962855620444, 'plums'),\n",
       " (-0.1292336627918294, 'enticing'),\n",
       " (-0.1281624077648053, 'but'),\n",
       " (-0.12670364897150066, 'cheeses'),\n",
       " (-0.12598930901585023, 'maturity'),\n",
       " (-0.12540481938858383, 'broad'),\n",
       " (-0.1252078348964383, 'robust'),\n",
       " (-0.12333427334516688, 'coffee'),\n",
       " (-0.12202954646609623, 'violet'),\n",
       " (-0.12177088835739872, 'or'),\n",
       " (-0.12086068450085813, 'beautifully'),\n",
       " (-0.12029766241088147, 'all'),\n",
       " (-0.1192161646184038, 'on'),\n",
       " (-0.11891005181431495, 'steak'),\n",
       " (-0.11862555164050342, 'sugar'),\n",
       " (-0.11808631170436809, 'for'),\n",
       " (-0.11785892138975299, 'region'),\n",
       " (-0.11784005229917949, 'dense'),\n",
       " (-0.11728196203084075, 'power'),\n",
       " (-0.11627046448346338, 'blueberry'),\n",
       " (-0.11590759527608485, 'leap'),\n",
       " (-0.1147996141723572, 'hue'),\n",
       " (-0.11471105493010983, 'ruby'),\n",
       " (-0.1142408695860009, 'jammy'),\n",
       " (-0.11356320590268931, 'now'),\n",
       " (-0.11309776071510422, 'in'),\n",
       " (-0.11302428841075633, 'winemaker'),\n",
       " (-0.11239472648749298, 'mouth'),\n",
       " (-0.1119732820134568, 'french'),\n",
       " (-0.11166370984450086, '2008'),\n",
       " (-0.11098791865184589, 'beef'),\n",
       " (-0.10993426246394318, 'earth'),\n",
       " (-0.10956591718757062, 'nutmeg'),\n",
       " (-0.10869750824021435, 'blackberries'),\n",
       " (-0.1072089193343243, 'caramel'),\n",
       " (-0.10692614385558304, 'pair'),\n",
       " (-0.10566918390218888, 'pepper'),\n",
       " (-0.10471289925804253, 'soils'),\n",
       " (-0.10408185448857787, 'amp'),\n",
       " (-0.10376096780555044, 'expressive'),\n",
       " (-0.10252685019379726, 'more'),\n",
       " (-0.10172983458084589, 'world'),\n",
       " (-0.10138455050359141, 'gentle'),\n",
       " (-0.09889269059374728, 'drink'),\n",
       " (-0.09851669814207227, 'yet'),\n",
       " (-0.09834406427190494, 'jam'),\n",
       " (-0.09755785208816485, 'who'),\n",
       " (-0.09747960702970909, 'concentration'),\n",
       " (-0.09739763944111311, 'than'),\n",
       " (-0.09720802104577315, 'bodied'),\n",
       " (-0.0971239741505289, 'one'),\n",
       " (-0.09681706091726386, 'has'),\n",
       " (-0.09658129782508328, 'alluring'),\n",
       " (-0.09610045267349601, 'over'),\n",
       " (-0.09558120169204418, 'depth'),\n",
       " (-0.0955074770224579, 'develop'),\n",
       " (-0.09449890850702167, 'leather'),\n",
       " (-0.0943686577862992, 'meat'),\n",
       " (-0.09325182132892254, 'crafted'),\n",
       " (-0.09229340968931242, 'opens'),\n",
       " (-0.09208909042277603, 'nice'),\n",
       " (-0.09110680309619539, 't'),\n",
       " (-0.08938282905060413, 'first'),\n",
       " (-0.08798039238876024, 'hearty'),\n",
       " (-0.087859872880703, 'different'),\n",
       " (-0.08715349811141489, 'garnet'),\n",
       " (-0.08630825732824468, 'throughout'),\n",
       " (-0.08551284658439899, '10'),\n",
       " (-0.08543292728641103, 'background'),\n",
       " (-0.08520231155984903, 'planted'),\n",
       " (-0.08520231155984903, 'vines'),\n",
       " (-0.08331088404771228, 'just'),\n",
       " (-0.08197040501635644, 'california'),\n",
       " (-0.08179818268611272, 'spicy'),\n",
       " (-0.08171336841246646, 'find'),\n",
       " (-0.08137408011208663, 'seductive'),\n",
       " (-0.07921816783656571, 'Â'),\n",
       " (-0.07809806980982521, 'time'),\n",
       " (-0.07807342632382962, 'violets'),\n",
       " (-0.07795690644980853, 'its'),\n",
       " (-0.07770031947561, '#'),\n",
       " (-0.07770031947561, '39'),\n",
       " (-0.0774462328319239, 'sage'),\n",
       " (-0.07689597054504652, 'year'),\n",
       " (-0.07660701252394199, 'aroma'),\n",
       " (-0.07525655027337501, 'reserve'),\n",
       " (-0.07524445795456869, '2007'),\n",
       " (-0.07514381688723876, 'days'),\n",
       " (-0.0747222307272516, 'earthy'),\n",
       " (-0.07402481914196735, 'de'),\n",
       " (-0.07389626117999472, 'these'),\n",
       " (-0.07356252912479307, 'meats'),\n",
       " (-0.0728049599538394, 'plush'),\n",
       " (-0.07233698973814291, 'followed'),\n",
       " (-0.07206872231643519, 'bean'),\n",
       " (-0.07181663333647188, 'body'),\n",
       " (-0.07154198505716511, 'like'),\n",
       " (-0.07005821854294278, 'make'),\n",
       " (-0.0698563546806035, 'intriguing'),\n",
       " (-0.06956569408136633, 'finishing'),\n",
       " (-0.06930475222993442, 'sip'),\n",
       " (-0.06903040832838143, 'vineyards'),\n",
       " (-0.06899379770925265, 'medium-bodied'),\n",
       " (-0.06871736722350591, 'five'),\n",
       " (-0.0683726563630987, 'don'),\n",
       " (-0.06790351465697085, 'young'),\n",
       " (-0.06766679110275085, 'drinking'),\n",
       " (-0.06745382943820277, 'pork'),\n",
       " (-0.06696799389965183, 'located'),\n",
       " (-0.06633087209592826, 'soil'),\n",
       " (-0.065657956343167, 'rounded'),\n",
       " (-0.06553718094946252, 'which'),\n",
       " (-0.06531813252949445, 'other'),\n",
       " (-0.0650135452134861, 'we'),\n",
       " (-0.06501155266694414, 'powerful'),\n",
       " (-0.06500896407615461, 'anise'),\n",
       " (-0.06448527998630157, 'tea'),\n",
       " (-0.06366390693586055, 'blue'),\n",
       " (-0.06327002915304294, 'slight'),\n",
       " (-0.06323492042034096, 'fine'),\n",
       " (-0.06277274503071427, 'opulent'),\n",
       " (-0.061475651947372735, 'should'),\n",
       " (-0.06124173291936688, 'pasta'),\n",
       " (-0.06097891890861895, 'before'),\n",
       " (-0.06052866831085708, 'reveals'),\n",
       " (-0.06045765667585278, 'beautiful'),\n",
       " (-0.06031410167804243, 'gracefully'),\n",
       " (-0.05964208945289361, '3'),\n",
       " (-0.05896290882344881, 'still'),\n",
       " (-0.05891258183666053, 'vine'),\n",
       " (-0.057714184421229844, 'smoky'),\n",
       " (-0.057507960075258484, 'varietal'),\n",
       " (-0.0574863765511379, 'release'),\n",
       " (-0.05744875741120424, 'lasting'),\n",
       " (-0.05692790041678152, 'Ã'),\n",
       " (-0.05689376346704517, 'upon'),\n",
       " (-0.05660317621455602, 'smoke'),\n",
       " (-0.05594851252082733, 'fill'),\n",
       " (-0.05489619845087708, 'santa'),\n",
       " (-0.05441219270766459, 'another'),\n",
       " (-0.05355683986718789, 'cigar'),\n",
       " (-0.052625991688476856, 'box'),\n",
       " (-0.05247597993218918, 'harmonious'),\n",
       " (-0.0521516194029579, 'aged'),\n",
       " (-0.052094946152625915, 'months'),\n",
       " (-0.05199773759926687, 'american'),\n",
       " (-0.05193803238622454, 'sauce'),\n",
       " (-0.051873162588974495, 'mushrooms'),\n",
       " (-0.05178291086309458, 'try'),\n",
       " (-0.05100711860414376, 'approachable'),\n",
       " (-0.05075646739816733, 'bold'),\n",
       " (-0.04950577467480381, 'wonderfully'),\n",
       " (-0.04921140167306495, 'lamb'),\n",
       " (-0.048951469379990564, 'toasted'),\n",
       " (-0.04825271644340732, 'such'),\n",
       " (-0.048232428672725945, 'elements'),\n",
       " (-0.048080205801724445, 'cellar'),\n",
       " (-0.047975591871509654, 'taste'),\n",
       " (-0.047653614826910544, 'generous'),\n",
       " (-0.047525288777149496, 'spiced'),\n",
       " (-0.046925351601044996, 'satisfying'),\n",
       " (-0.0468437789310385, 'graphite'),\n",
       " (-0.04652149475066161, 'sonoma'),\n",
       " (-0.046358477530556705, 'county'),\n",
       " (-0.04623838878523717, 'delivers'),\n",
       " (-0.04601287495631383, 'leading'),\n",
       " (-0.04585792420875427, 'characteristics'),\n",
       " (-0.045326918363981186, 'purity'),\n",
       " (-0.045326265793954594, 'pure'),\n",
       " (-0.045129418391315186, '1'),\n",
       " (-0.045079010032576174, 'mild'),\n",
       " (-0.044822847671085665, 'inviting'),\n",
       " (-0.04434811452469254, 'spectator'),\n",
       " (-0.04434811452469254, 'top'),\n",
       " (-0.04430885908035076, 'lingering'),\n",
       " (-0.04421359002691258, 'enjoyed'),\n",
       " (-0.04409234267181774, 'powder'),\n",
       " (-0.04365089927584173, 'flowers'),\n",
       " (-0.04265512367319019, 'summer'),\n",
       " (-0.04262018294181623, 'always'),\n",
       " (-0.042460318464743935, 'fruit'),\n",
       " (-0.04206212995224773, 'within'),\n",
       " (-0.04182462915568238, 'currants'),\n",
       " (-0.04172040895777861, 'milk'),\n",
       " (-0.04113313533801532, 'cheese'),\n",
       " (-0.041003080609227784, 'attack'),\n",
       " (-0.040413454115247265, 'some'),\n",
       " (-0.040294518730636095, 'between'),\n",
       " (-0.04021662055388567, 'forest'),\n",
       " (-0.04015587159697802, 'pleasing'),\n",
       " (-0.04005913556469819, 'toasty'),\n",
       " (-0.04002421959418155, 'vineyard'),\n",
       " (-0.03999426638313689, 'raspberries'),\n",
       " (-0.039875708961188645, 'addition'),\n",
       " (-0.03891458446743527, 'blended'),\n",
       " (-0.03889586037532892, 'core'),\n",
       " (-0.038798993922257545, 'age'),\n",
       " (-0.038753943155507675, 'pomegranate'),\n",
       " (-0.03808708042792401, 'many'),\n",
       " (-0.037382649010518756, 'any'),\n",
       " (-0.03688787232669303, 'layers'),\n",
       " (-0.036405085576181606, 'signature'),\n",
       " (-0.035100704013808846, 'succulent'),\n",
       " (-0.035057662066258634, 'example'),\n",
       " (-0.03493624709724325, 'perfumed'),\n",
       " (-0.03489546074110786, 'balance'),\n",
       " (-0.03458259932184804, 'profile'),\n",
       " (-0.034448426217757185, 'been'),\n",
       " (-0.0343765338130128, 'blackcurrant'),\n",
       " (-0.034210149654785506, 'your'),\n",
       " (-0.03409084066641976, 'potential'),\n",
       " (-0.03408717716190672, 'toffee'),\n",
       " (-0.0340526913684669, 'characteristic'),\n",
       " (-0.03380302791075587, 'best'),\n",
       " (-0.033670766842117096, 'finishes'),\n",
       " (-0.03347111320157789, 'even'),\n",
       " (-0.03339404454973642, 'excellent'),\n",
       " (-0.03325566863394517, 'chewy'),\n",
       " (-0.03266543854222803, 'polished'),\n",
       " (-0.032587412857111586, 'overtones'),\n",
       " (-0.032585469788512664, 'note'),\n",
       " (-0.03241100790696488, 'great'),\n",
       " (-0.03220085022470866, 'old'),\n",
       " (-0.032153660279509236, 'brown'),\n",
       " (-0.0317655956162875, 'ripe'),\n",
       " (-0.03154006662171574, 'classic'),\n",
       " (-0.030860944834470428, 'savory'),\n",
       " (-0.03065561758602314, 'baking'),\n",
       " (-0.030447988516512703, '6'),\n",
       " (-0.030071756796489553, 'winery'),\n",
       " (-0.02998651777629209, '!'),\n",
       " (-0.02997426798199811, 'bouquet'),\n",
       " (-0.029748948727348873, 'toast'),\n",
       " (-0.02972228990257716, 'focused'),\n",
       " (-0.029269378993598952, 'boysenberry'),\n",
       " (-0.028904406371283626, 'across'),\n",
       " (-0.028759301877392198, 'hills'),\n",
       " (-0.028730435747923572, 'so'),\n",
       " (-0.02840080507186584, '%'),\n",
       " (-0.028199200184550452, '2006'),\n",
       " (-0.027726966162814237, 'petal'),\n",
       " (-0.02722274370875296, 'perfectly'),\n",
       " (-0.0268891770686951, 'floral'),\n",
       " (-0.026778655166066014, 'features'),\n",
       " (-0.025874652336901074, 'winemaking'),\n",
       " (-0.025730657491490967, 'most'),\n",
       " (-0.025515255610226512, 'bottle'),\n",
       " (-0.02532408687661461, 'crushed'),\n",
       " (-0.025273126312462445, 'next'),\n",
       " (-0.025153360454656517, 'finely'),\n",
       " (-0.024934107049472933, 'pastas'),\n",
       " (-0.024883972567859243, 'clove'),\n",
       " (-0.024875338162207463, 'exceptional'),\n",
       " (-0.024859631330243097, 'flavorful'),\n",
       " (-0.02475660668818926, 'same'),\n",
       " (-0.02472993290603141, 'almonds'),\n",
       " (-0.02426235021189905, 'veal'),\n",
       " (-0.024232522481733285, '4'),\n",
       " (-0.024187256523636944, 'sauces'),\n",
       " (-0.02409657387131372, 'continue'),\n",
       " (-0.024039340325218192, 'here'),\n",
       " (-0.024039340325218192, 'three'),\n",
       " (-0.023993488602426494, 'back'),\n",
       " (-0.02397458964919466, 'enough'),\n",
       " (-0.023843056941241628, 'come'),\n",
       " (-0.023690718194130198, 'floor'),\n",
       " (-0.02364607368243671, 'mouth-filling'),\n",
       " (-0.02330105793507703, 'touch'),\n",
       " (-0.02295663290883217, 'would'),\n",
       " (-0.022869242529563096, 'wood'),\n",
       " (-0.02284956471657004, 'mingle'),\n",
       " (-0.022813359454970497, 'those'),\n",
       " (-0.022807065047459708, 'reflects'),\n",
       " (-0.022807065047459708, 'select'),\n",
       " (-0.022795355871118105, 'range'),\n",
       " (-0.022795355871118105, 'strawberries'),\n",
       " (-0.022795355871118105, 'wide'),\n",
       " (-0.02190573522673844, 'cinnamon'),\n",
       " (-0.021681020204528313, 'roast'),\n",
       " (-0.021679291216385184, 'quality'),\n",
       " (-0.02105266807031885, 'style'),\n",
       " (-0.020812699722644504, 'additional'),\n",
       " (-0.02073043222035046, 'fine-grained'),\n",
       " (-0.020207266242306256, 'our'),\n",
       " (-0.019894203063000805, 'personality'),\n",
       " (-0.019833027830779098, 'nicely'),\n",
       " (-0.019775741301015483, 'intense'),\n",
       " (-0.019676125390211897, 'conditions'),\n",
       " (-0.01960703525053257, 'lavender'),\n",
       " (-0.01946829428039389, 'quite'),\n",
       " (-0.019422434708960903, 'provide'),\n",
       " (-0.019280024632237762, 'lingers'),\n",
       " (-0.01918710605555198, 'lovely'),\n",
       " (-0.01909237920129735, 'blending'),\n",
       " (-0.018136391455965736, 'get'),\n",
       " (-0.017506200162369458, 'complex'),\n",
       " (-0.016967797931704928, 'fruit-forward'),\n",
       " (-0.01669663014372772, 'offering'),\n",
       " (-0.016624801068122242, 'alexander'),\n",
       " (-0.01652590235975547, 'during'),\n",
       " (-0.016422411161821117, 'elegantly'),\n",
       " (-0.016356557267851953, 'extremely'),\n",
       " (-0.016356557267851953, 'off'),\n",
       " (-0.01616693248235538, 'versatile'),\n",
       " (-0.015727630796624575, 'unique'),\n",
       " (-0.01570766721505521, 'well-structured'),\n",
       " (-0.015600112855018925, 'terroir'),\n",
       " (-0.01555056801565185, 'framed'),\n",
       " (-0.015472264092711251, '8'),\n",
       " (-0.01538647640189167, '('),\n",
       " (-0.01538647640189167, ')'),\n",
       " (-0.015370117973011991, 'including'),\n",
       " (-0.015347157889313267, 'match'),\n",
       " (-0.015214953095794997, 'almond'),\n",
       " (-0.01501344339815571, 'lift'),\n",
       " (-0.014743447259083909, 'from'),\n",
       " (-0.01472603469570416, '...'),\n",
       " (-0.014721313928228574, 'about'),\n",
       " (-0.014435559348923105, 'superb'),\n",
       " (-0.01430726537826319, 'cranberry'),\n",
       " (-0.01385973984040681, 'mouthfeel'),\n",
       " (-0.013659116636138863, 'four'),\n",
       " (-0.013349467281535778, 'density'),\n",
       " (-0.01326701033636246, 'pie'),\n",
       " (-0.013265999747143275, 'known'),\n",
       " (-0.013035890847022596, 'give'),\n",
       " (-0.012908351270554268, 'i'),\n",
       " (-0.012853310627955958, '40'),\n",
       " (-0.012803731700341148, 'cellaring'),\n",
       " (-0.012279193995450124, 'fruity'),\n",
       " (-0.01224481994453356, 'array'),\n",
       " (-0.011945320420517927, 'accented'),\n",
       " (-0.011387983509433352, 'wild'),\n",
       " (-0.01100242725797429, 'fully'),\n",
       " (-0.01092827199837742, 'butter'),\n",
       " (-0.010790519688999538, 'resulting'),\n",
       " (-0.010726182920309272, 'up'),\n",
       " (-0.01058815639111785, 'wonderful'),\n",
       " (-0.010460822206829206, 'abundant'),\n",
       " (-0.010285586540507756, 'contributes'),\n",
       " (-0.010260304145631878, 'richly'),\n",
       " (-0.010029813594453171, 'offers'),\n",
       " (-0.010028112409880927, 'seamless'),\n",
       " (-0.009960449334237202, 'blueberries'),\n",
       " (-0.009616273510639364, 'subtle'),\n",
       " (-0.00954156930027995, 'well-integrated'),\n",
       " (-0.009536371345858571, 'braised'),\n",
       " (-0.009536371345858571, 'tuna'),\n",
       " (-0.009356668844100503, 'vintages'),\n",
       " (-0.009204755131735496, 'selected'),\n",
       " (-0.009203512358419576, 'grown'),\n",
       " (-0.00910289790199605, 'alongside'),\n",
       " (-0.009029031073230394, 'overall'),\n",
       " (-0.008995031164540899, 'creating'),\n",
       " (-0.008949050943978104, 'selection'),\n",
       " (-0.008938527143051659, 'enjoy'),\n",
       " (-0.008850611573678389, 'open'),\n",
       " (-0.008487833587946966, 'typical'),\n",
       " (-0.008140742375533612, 'may'),\n",
       " (-0.00802080385612684, 'coast'),\n",
       " (-0.007960047665933955, 'create'),\n",
       " (-0.00790426059960318, 'brooding'),\n",
       " (-0.007394201377343626, 'sweetness'),\n",
       " (-0.007326267188672729, 'fragrant'),\n",
       " (-0.00721936929629651, 'game'),\n",
       " (-0.00692123621636167, 'two'),\n",
       " (-0.006701944738505513, 'little'),\n",
       " (-0.006610656885339241, 'immediately'),\n",
       " (-0.006582647774880557, 'favorite'),\n",
       " (-0.006417891105621671, 'appellation'),\n",
       " (-0.006417327959004256, 'full'),\n",
       " (-0.006379534055867331, 'yields'),\n",
       " (-0.005919133986675381, 'natural'),\n",
       " (-0.005891440131676478, 'aromatics'),\n",
       " (-0.0058371996074084, 'into'),\n",
       " (-0.005597270145462712, 'follow'),\n",
       " (-0.0053582144342850845, 'allspice'),\n",
       " (-0.005330402161842966, 'after'),\n",
       " (-0.005330402161842966, 'combined'),\n",
       " (-0.005330402161842966, 'displaying'),\n",
       " (-0.0052938159524082064, 'acid'),\n",
       " (-0.005276999965067406, 'hazelnut'),\n",
       " (-0.0052490772849422005, 'mixed'),\n",
       " (-0.004985496388268451, 'adds'),\n",
       " (-0.004771931842155386, 'carry'),\n",
       " (-0.0047447079316699226, 'lifted'),\n",
       " (-0.004612317633887332, 'friendly'),\n",
       " (-0.004548824567402557, 'sirah'),\n",
       " (-0.004508221030662316, 'bread'),\n",
       " (-0.004508221030662316, 'wet'),\n",
       " (-0.004461318678245742, 'end'),\n",
       " (-0.0044463005354140935, 'strong'),\n",
       " (-0.004393158807715446, 'perfume'),\n",
       " (-0.0043175360869620195, 'duck'),\n",
       " (-0.004263689793659112, 'traditional'),\n",
       " (-0.003924009268011611, 'exudes'),\n",
       " (-0.003919045188010728, '15'),\n",
       " (-0.003721667483051531, 'lightly'),\n",
       " (-0.0036124855078937088, 'complimented'),\n",
       " (-0.003264666467019741, 'bing'),\n",
       " (-0.0030054098073379787, 'northern'),\n",
       " (-0.0030054098073379787, 'tannic'),\n",
       " (-0.002985216020023743, 'wrapped'),\n",
       " (-0.002931477587003009, 'spring'),\n",
       " (-0.0027212332585000495, 'sandalwood'),\n",
       " (-0.0021238518102777463, 'baked'),\n",
       " (-0.0021238518102777463, 'creme'),\n",
       " (-0.0021238518102777463, 'place'),\n",
       " (-0.001985126612927801, 'include'),\n",
       " (-0.0019817642513876997, 'chicken'),\n",
       " (-0.001845759483543884, 'lots'),\n",
       " (-0.001590528623926307, 'hard'),\n",
       " (-0.001522319314498295, 'd'),\n",
       " (-0.001460034948560884, 'every'),\n",
       " (-0.0014321122684356792, 'attractive'),\n",
       " (-0.0012379678077982504, 'well-balanced'),\n",
       " (-0.0006813746009398917, 'luscious'),\n",
       " (-0.0005274052564772116, 'family'),\n",
       " (-0.0004656374637965058, 'complemented'),\n",
       " (0.0, '30'),\n",
       " (0.0, '50'),\n",
       " (0.0, 'abundance'),\n",
       " (0.0, 'achieve'),\n",
       " (0.0, 'almost'),\n",
       " (0.0, 'barossa'),\n",
       " (0.0, 'bay'),\n",
       " (0.0, 'bring'),\n",
       " (0.0, 'brioche'),\n",
       " (0.0, 'bubbles'),\n",
       " (0.0, 'carneros'),\n",
       " (0.0, 'champagne'),\n",
       " (0.0, 'clones'),\n",
       " (0.0, 'finesse'),\n",
       " (0.0, 'friends'),\n",
       " (0.0, 'gently'),\n",
       " (0.0, 'ginger'),\n",
       " (0.0, 'goes'),\n",
       " (0.0, 'grenache'),\n",
       " (0.0, 'impression'),\n",
       " (0.0, 'mourvedre'),\n",
       " (0.0, 'mousse'),\n",
       " (0.0, 'mushroom'),\n",
       " (0.0, 'paired'),\n",
       " (0.0, 'persistence'),\n",
       " (0.0, 'pizza'),\n",
       " (0.0, 'produce'),\n",
       " (0.0, 'sangiovese'),\n",
       " (0.0, 'smoked'),\n",
       " (0.0, 'sparkling'),\n",
       " (0.0, 'strawberry'),\n",
       " (0.0, 'tart'),\n",
       " (0.0, 'thai'),\n",
       " (0.0, 'what'),\n",
       " (6.815092076737871e-05, 'both'),\n",
       " (0.00015359507406814205, 'minerals'),\n",
       " (0.0005260613317533032, 'sourced'),\n",
       " (0.001062026395610098, '9'),\n",
       " (0.0032920398918419367, 'mouthwatering'),\n",
       " (0.0035316980449502386, 'ribs'),\n",
       " (0.0037667656754334328, 'an'),\n",
       " (0.0038250243765400255, 'fleshy'),\n",
       " (0.0047603315746479885, 'bottling'),\n",
       " (0.005783458471492601, 'candied'),\n",
       " (0.005783458471492601, 'crab'),\n",
       " (0.006057158691699302, 'barrels'),\n",
       " (0.006196655130568278, 'perfect'),\n",
       " (0.006218697362174963, 'particularly'),\n",
       " (0.006537752275114267, 'feel'),\n",
       " (0.006548343487952563, 'juicy'),\n",
       " (0.006704499353963358, 'add'),\n",
       " (0.0067489692518236935, 'lighter'),\n",
       " (0.007712358596566881, 'pairing'),\n",
       " (0.009157280083810343, 'dominated'),\n",
       " (0.009205286586966796, 'were'),\n",
       " (0.00920907047453397, 'provides'),\n",
       " (0.009396582631483857, 'producing'),\n",
       " (0.009997489116471353, '12'),\n",
       " (0.010103059274376406, 'ideal'),\n",
       " (0.010164269102222252, 'aging'),\n",
       " (0.010690455423614144, 'right'),\n",
       " (0.010710445460833475, 'stone'),\n",
       " (0.010933968120504784, 'grape'),\n",
       " (0.011011825050261268, 'due'),\n",
       " (0.011266959056400964, 'entry'),\n",
       " (0.01178083193032755, 'quince'),\n",
       " (0.012358128462236242, 'harvest'),\n",
       " (0.013436710762108936, 'making'),\n",
       " (0.013550146489739817, 'scents'),\n",
       " (0.015101964957214246, 'finest'),\n",
       " (0.01521807531352132, 'malolactic'),\n",
       " (0.015445599076138634, 'clear'),\n",
       " (0.015445599076138634, 'salad'),\n",
       " (0.015445599076138634, 'salmon'),\n",
       " (0.015738784160949225, 'flavor'),\n",
       " (0.016016540505010803, 'distinct'),\n",
       " (0.017564290401820143, 'honey'),\n",
       " (0.0176312618374207, 'cream'),\n",
       " (0.017643171091933838, 'without'),\n",
       " (0.017766782928880703, 'layered'),\n",
       " (0.017947400620027917, 'partner'),\n",
       " (0.0183066705256871, 'mid'),\n",
       " (0.019448113874987526, 'pleasant'),\n",
       " (0.019521419873576692, 'notes'),\n",
       " (0.019829772403973347, 'especially'),\n",
       " (0.020168261776284654, 'several'),\n",
       " (0.02043179112409015, 'mid-palate'),\n",
       " (0.020853450364752446, 'when'),\n",
       " (0.02140479610785825, 'fruits'),\n",
       " (0.02203236779895129, 'delightful'),\n",
       " (0.022107237226826754, 'creek'),\n",
       " (0.022343075724892567, 'food'),\n",
       " (0.022989476271705778, 'enhanced'),\n",
       " (0.022989476271705778, 'russian'),\n",
       " (0.02365456907281494, 'petite'),\n",
       " (0.023891270162542288, 'delicious'),\n",
       " (0.024082355842857034, 'flavored'),\n",
       " (0.024629075400698402, 'foods'),\n",
       " (0.025097675954200867, 'showing'),\n",
       " (0.025421139921855233, 'aftertaste'),\n",
       " (0.02553897748150865, 'accompaniment'),\n",
       " (0.025608763707235933, 'intensely'),\n",
       " (0.026213434042521407, '100'),\n",
       " (0.028606765833250194, 'no'),\n",
       " (0.028749988660768125, 'own'),\n",
       " (0.028884030821991712, 'golden'),\n",
       " (0.028884030821991712, 'pink'),\n",
       " (0.029799228970101066, 'creamy'),\n",
       " (0.02991242013950006, 'orange'),\n",
       " (0.02991242013950006, 'peel'),\n",
       " (0.030081589382208916, 'brilliant'),\n",
       " (0.03048892510460423, 'along'),\n",
       " (0.03095428474139889, 'nose'),\n",
       " (0.031623066395208406, 'high'),\n",
       " (0.03188636144516659, 'pairs'),\n",
       " (0.032499307558750745, 'peaches'),\n",
       " (0.03313830196805763, 'central'),\n",
       " (0.03370167869300179, 'underlying'),\n",
       " (0.033881999125718404, 'barrel'),\n",
       " (0.03404528206360848, 'exotic'),\n",
       " (0.03407134772303762, 'edge'),\n",
       " (0.03714345748765705, 'middle'),\n",
       " (0.03728699672585595, 'appealing'),\n",
       " (0.03741143129606554, 'dried'),\n",
       " (0.037448490276430116, 'delicate'),\n",
       " (0.03855109169961687, 'then'),\n",
       " (0.03856461972835974, '2010'),\n",
       " (0.03865495640667692, 'fish'),\n",
       " (0.03908866404384217, 'jasmine'),\n",
       " (0.03928668985675452, 'combine'),\n",
       " (0.03947073648005803, 'out'),\n",
       " (0.0418586322913377, 'season'),\n",
       " (0.0420773649316998, 'accompanied'),\n",
       " (0.0430584104895629, 'elegance'),\n",
       " (0.043236838986748224, 'aromatic'),\n",
       " (0.04328821498476485, 'where'),\n",
       " (0.045190853015372234, 'persistent'),\n",
       " (0.045212306042342346, '-'),\n",
       " (0.04534356486265953, 'true'),\n",
       " (0.04583323682083263, 'grapes'),\n",
       " (0.04660403218295014, 'that'),\n",
       " (0.04712526678562763, 'distinctive'),\n",
       " (0.047784991897353545, 'leads'),\n",
       " (0.04863386544139489, 'asian'),\n",
       " (0.04863386544139489, 'served'),\n",
       " (0.04863386544139489, 'slightly'),\n",
       " (0.048898414781682574, 'as'),\n",
       " (0.050914355442321944, 'la'),\n",
       " (0.05160455974693019, 'rock'),\n",
       " (0.051721498706325565, 'linger'),\n",
       " (0.053557906519173554, 'combination'),\n",
       " (0.05380782594828921, 'was'),\n",
       " (0.05516544344046728, 'enjoyable'),\n",
       " (0.056063677151666574, 'brings'),\n",
       " (0.05820453779773626, 'showcases'),\n",
       " (0.05866033744272786, 'apple'),\n",
       " (0.05915088877181146, 'truly'),\n",
       " (0.06113601538473927, 'love'),\n",
       " (0.0613781357154096, 'fig'),\n",
       " (0.06143024089429863, 'their'),\n",
       " (0.062089615300345236, 'poultry'),\n",
       " (0.06231847293897558, 'freshness'),\n",
       " (0.0627177228024165, 'also'),\n",
       " (0.06277721774972746, 'have'),\n",
       " (0.0631486113894493, 'salads'),\n",
       " (0.06429955116976223, ':'),\n",
       " (0.06460191572139116, 'qualities'),\n",
       " (0.06485157165605086, 'made'),\n",
       " (0.06515572008879993, 'supported'),\n",
       " (0.06533517798591938, 'undertones'),\n",
       " (0.06735267589989864, 'makes'),\n",
       " (0.06763003710157266, 'there'),\n",
       " (0.06838915735802126, 'cuisine'),\n",
       " (0.06844836322586298, 'leaf'),\n",
       " (0.0687309816213181, 'comes'),\n",
       " (0.06987346288164666, 'adding'),\n",
       " (0.07098129713200528, 'touches'),\n",
       " (0.07173972428144006, 'us'),\n",
       " (0.07189817640780038, 'driven'),\n",
       " (0.07351963400642268, 'combines'),\n",
       " (0.07351963400642268, 'lees'),\n",
       " (0.07511232833316685, 'honeydew'),\n",
       " (0.07519642670078015, 'tones'),\n",
       " (0.07819336482774539, 'small'),\n",
       " (0.07836849247147148, 'honeysuckle'),\n",
       " (0.07877914714547002, 'result'),\n",
       " (0.07893933389836019, 'low'),\n",
       " (0.0804465435800802, 'south'),\n",
       " (0.0812154516650806, 'mature'),\n",
       " (0.08137230635179636, 'climate'),\n",
       " (0.08342913365115401, 'length'),\n",
       " (0.08434579498673664, 'freshly'),\n",
       " (0.08520115904947774, 'hues'),\n",
       " (0.08647569846495498, 'exhibits'),\n",
       " (0.08815229999955704, 'are'),\n",
       " (0.08906997623818076, 'ample'),\n",
       " (0.08924877415259312, 'weight'),\n",
       " (0.09023777411615568, 'butterscotch'),\n",
       " (0.09071578357277055, 's'),\n",
       " (0.09080086625165211, 'apples'),\n",
       " (0.09150858356216217, 'flavours'),\n",
       " (0.09151678628372849, 'by'),\n",
       " (0.09187167478314745, 'pears'),\n",
       " (0.09235606373703138, 'solid'),\n",
       " (0.0929100797905534, 'shellfish'),\n",
       " (0.09324654536623356, 'glass'),\n",
       " (0.0939708595189714, 'complement'),\n",
       " (0.09400365459980907, 'blossom'),\n",
       " (0.09561697199160168, 'displays'),\n",
       " (0.09569809138293717, 'together'),\n",
       " (0.09738991467177886, 'alcohol'),\n",
       " (0.0994140990760474, 'richness'),\n",
       " (0.10066148884665636, 'cooler'),\n",
       " (0.10066148884665636, 'produced'),\n",
       " (0.10138135195602284, 'way'),\n",
       " (0.10173247767124029, 'complexity'),\n",
       " (0.10178388209529264, 'gold'),\n",
       " (0.10215350323690378, 'highlights'),\n",
       " (0.10253085274113911, 'color'),\n",
       " (0.10336527246023634, 'refined'),\n",
       " (0.10368890334342509, 'complements'),\n",
       " (0.10427050318096358, 'gives'),\n",
       " (0.10528364595341891, 'giving'),\n",
       " (0.10541561973562216, 'backbone'),\n",
       " (0.1063826227035687, 'varieties'),\n",
       " (0.10862009659229802, 'passionfruit'),\n",
       " (0.10936359249740983, 'reminiscent'),\n",
       " (0.1107718593667633, 'through'),\n",
       " (0.11223582453880325, 'they'),\n",
       " (0.11588029442117083, '7'),\n",
       " (0.11950983959235137, 'herbs'),\n",
       " (0.12124119834673404, 'lengthy'),\n",
       " (0.12277693950597346, 'aperitif'),\n",
       " (0.12589233932950294, 'clean'),\n",
       " (0.1259979940807042, 'nectarine'),\n",
       " (0.1276893007091012, 'dishes'),\n",
       " (0.1278154421419027, 'character'),\n",
       " (0.12822113738636734, 'cut'),\n",
       " (0.12853180591293292, 'good'),\n",
       " (0.12877182183639843, 'growing'),\n",
       " (0.13099224904336615, 'created'),\n",
       " (0.1323208021661741, 'river'),\n",
       " (0.13544227276133552, 'this'),\n",
       " (0.13596266777282517, 'aromas'),\n",
       " (0.14095935399786153, 'characters'),\n",
       " (0.14097782262717498, 'lively'),\n",
       " (0.14278089312246933, 'stainless'),\n",
       " (0.14278089312246933, 'steel'),\n",
       " (0.1429442043611824, 'tangerine'),\n",
       " (0.14409713689465503, 'it'),\n",
       " (0.14433195682433209, 'chilled'),\n",
       " (0.14495128028672064, 'mix'),\n",
       " (0.14618464702175568, 'only'),\n",
       " (0.14776766974653338, 'seafood'),\n",
       " (0.15018177368491892, 'serve'),\n",
       " (0.15666674731446126, 'herbal'),\n",
       " (0.1567985600250197, 'fermented'),\n",
       " (0.16449555304741537, 'intensity'),\n",
       " (0.16621791198811464, 'guava'),\n",
       " (0.16677763637992776, 'apricot'),\n",
       " (0.16799101920546766, 'added'),\n",
       " (0.17037901166206684, 'white'),\n",
       " (0.17806537499011357, 'lychee'),\n",
       " (0.18134608640343702, 'yellow'),\n",
       " (0.18936001348798487, 'not'),\n",
       " (0.19367597251528618, 'bright'),\n",
       " (0.19741488328407417, 'cool'),\n",
       " (0.20329245526064443, 'oysters'),\n",
       " (0.2069087921220055, '/'),\n",
       " (0.206996340920679, 'variety'),\n",
       " (0.21130818762732428, '2011'),\n",
       " (0.22707170907476454, 'well'),\n",
       " (0.2286583228556483, 'palate'),\n",
       " (0.23295023363033568, 'itself'),\n",
       " (0.23570837854761004, 'possesses'),\n",
       " (0.23695982922082828, 'pineapple'),\n",
       " (0.2450946058282437, 'while'),\n",
       " (0.24706902548100504, 'grass'),\n",
       " (0.24960398355973254, 'fermentation'),\n",
       " (0.25075147061512726, 'zest'),\n",
       " (0.2633273055891914, 'vibrant'),\n",
       " (0.27002315419864004, 'pear'),\n",
       " (0.29521312858217924, 'peach'),\n",
       " (0.31627825014003513, 'zesty'),\n",
       " (0.3177883882838997, 'mineral'),\n",
       " (0.31996351363416037, 'meyer'),\n",
       " (0.3297623686922546, 'straw'),\n",
       " (0.33179437888735736, 'pale'),\n",
       " (0.3541340373864262, 'light'),\n",
       " (0.3645903613724852, 'passion'),\n",
       " (0.4313024748721522, 'fresh'),\n",
       " (0.45171278657983177, 'green'),\n",
       " (0.48047640021777205, 'refreshing'),\n",
       " (0.4950979194739073, 'minerality'),\n",
       " (0.5068182594089797, 'lemon'),\n",
       " (0.5120902639707063, 'gooseberry'),\n",
       " (0.5599900369601929, 'grapefruit'),\n",
       " (0.5842287065766666, 'melon'),\n",
       " (0.6064232619016869, 'tropical'),\n",
       " (0.6891990079029966, 'acidity'),\n",
       " (0.7108905521536927, 'lime'),\n",
       " (0.7701247691557761, 'crisp'),\n",
       " (0.8832897531176555, 'citrus')]"
      ]
     },
     "execution_count": 38,
     "metadata": {},
     "output_type": "execute_result"
    }
   ],
   "source": [
    "arr = list(f.getRepresentation())\n",
    "data = []\n",
    "for i in range(len(datasets.WineDataBinary.words)):\n",
    "    data.append((arr[i], datasets.WineDataBinary.words[i]))\n",
    "data.sort()\n",
    "data"
   ]
  },
  {
   "cell_type": "markdown",
   "metadata": {},
   "source": [
    "#### WU5 Logistic Loss\n",
    "Logistic Loss performs the best\n",
    "\n",
    "Top 5 positive\n",
    "1. citrus\n",
    "2. crisp\n",
    "3. lime\n",
    "4. acidity\n",
    "5. tropical\n",
    "\n",
    "Top 5 negative\n",
    "1. tannins\n",
    "2. black\n",
    "3. dark\n",
    "4. cherry\n",
    "5. blackberry\n",
    "\n",
    "From the code run above, it is shown the weight of each word. With lowest weight reach -1.1 and the highest reach 0.88"
   ]
  },
  {
   "cell_type": "code",
   "execution_count": 39,
   "metadata": {},
   "outputs": [
    {
     "name": "stdout",
     "output_type": "stream",
     "text": [
      "Training accuracy 0.753036, test accuracy 0.686347\n"
     ]
    }
   ],
   "source": [
    "f = linear.LinearClassifier({'lossFunction': linear.HingeLoss(), 'lambda': 1, 'numIter': 100, 'stepSize': 0.5})\n",
    "runClassifier.trainTestSet(f, datasets.WineDataBinary)"
   ]
  },
  {
   "cell_type": "code",
   "execution_count": null,
   "metadata": {},
   "outputs": [],
   "source": []
  }
 ],
 "metadata": {
  "kernelspec": {
   "display_name": "Python 3.10.1 64-bit ('3.10.1')",
   "language": "python",
   "name": "python3"
  },
  "language_info": {
   "codemirror_mode": {
    "name": "ipython",
    "version": 3
   },
   "file_extension": ".py",
   "mimetype": "text/x-python",
   "name": "python",
   "nbconvert_exporter": "python",
   "pygments_lexer": "ipython3",
   "version": "3.10.1 (main, Jun 16 2022, 11:35:16) [Clang 13.1.6 (clang-1316.0.21.2.3)]"
  },
  "orig_nbformat": 4,
  "vscode": {
   "interpreter": {
    "hash": "1d9f2748a924d14a1e73b2cdec00cca53b2debc5062d267fe9863a66cf0534b9"
   }
  }
 },
 "nbformat": 4,
 "nbformat_minor": 2
}
