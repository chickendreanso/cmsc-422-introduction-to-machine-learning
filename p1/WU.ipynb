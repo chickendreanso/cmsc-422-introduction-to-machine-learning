{
 "cells": [
  {
   "cell_type": "markdown",
   "metadata": {},
   "source": [
    "## WU Questions"
   ]
  },
  {
   "cell_type": "markdown",
   "metadata": {},
   "source": [
    "### WU1: \n",
    "\n",
    "**Why is this computation equivalent to computing classification accuracy?**"
   ]
  },
  {
   "cell_type": "markdown",
   "metadata": {},
   "source": [
    "The statement within the mean function returns a 1 if the prediction is correct and a 0 if the prediction is incorrect. The mean function then takes the average of all the 1s and 0s, which is the same as the classification accuracy.\n",
    "\n",
    "As reference, accuracy is $$\\dfrac{TP + TN}{TP + TN + FP + FN}$$, which is the same as the probability that the classification is done correctly, which corresponds to the mean of that function."
   ]
  },
  {
   "cell_type": "markdown",
   "metadata": {},
   "source": [
    "### WU2:"
   ]
  },
  {
   "cell_type": "code",
   "execution_count": 1,
   "metadata": {},
   "outputs": [
    {
     "name": "stdout",
     "output_type": "stream",
     "text": [
      "Training classifier on 2 points...\n",
      "Training accuracy 1, test accuracy 0.5\n",
      "Training classifier on 3 points...\n",
      "Training accuracy 1, test accuracy 0.5\n",
      "Training classifier on 5 points...\n",
      "Training accuracy 1, test accuracy 0.5\n",
      "Training classifier on 10 points...\n",
      "Training accuracy 1, test accuracy 0.595\n",
      "Training classifier on 19 points...\n",
      "Training accuracy 1, test accuracy 0.48\n",
      "Training classifier on 38 points...\n",
      "Training accuracy 1, test accuracy 0.62\n",
      "Training classifier on 75 points...\n",
      "Training accuracy 1, test accuracy 0.56\n",
      "Training classifier on 150 points...\n",
      "Training accuracy 0.953333, test accuracy 0.56\n",
      "Training classifier on 300 points...\n",
      "Training accuracy 0.926667, test accuracy 0.575\n",
      "Training classifier on 600 points...\n",
      "Training accuracy 0.881667, test accuracy 0.5975\n",
      "Training classifier on 1200 points...\n",
      "Training accuracy 0.833333, test accuracy 0.6475\n"
     ]
    },
    {
     "data": {
      "image/png": "[encoded data removed]",
      "text/plain": [
       "<Figure size 432x288 with 1 Axes>"
      ]
     },
     "metadata": {
      "needs_background": "light"
     },
     "output_type": "display_data"
    }
   ],
   "source": [
    "import dt\n",
    "from imports import *\n",
    "\n",
    "curve = runClassifier.learningCurveSet(dt.DT({'maxDepth': 9}), datasets.SentimentData)\n",
    "runClassifier.plotCurve('DT on Sentiment Data', curve)"
   ]
  },
  {
   "cell_type": "markdown",
   "metadata": {},
   "source": [
    "**We should see training accuracy (roughly) going down and test accuracy (roughly) going up. Why does training accuracy tend to go down? Why is test accuracy not monotonically increasing? You should also see jaggedness in the test curve toward the left. Why?**"
   ]
  },
  {
   "cell_type": "markdown",
   "metadata": {},
   "source": []
  }
 ],
 "metadata": {
  "kernelspec": {
   "display_name": "Python 3.10.4 ('py10')",
   "language": "python",
   "name": "python3"
  },
  "language_info": {
   "codemirror_mode": {
    "name": "ipython",
    "version": 3
   },
   "file_extension": ".py",
   "mimetype": "text/x-python",
   "name": "python",
   "nbconvert_exporter": "python",
   "pygments_lexer": "ipython3",
   "version": "3.10.4"
  },
  "orig_nbformat": 4,
  "vscode": {
   "interpreter": {
    "hash": "98909b20b47e7306ec03f5e42153095d0b5a272c9bf0befd3ab45b66b6487d01"
   }
  }
 },
 "nbformat": 4,
 "nbformat_minor": 2
}
